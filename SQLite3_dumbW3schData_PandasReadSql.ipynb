{
  "cells": [
    {
      "cell_type": "markdown",
      "metadata": {
        "id": "view-in-github",
        "colab_type": "text"
      },
      "source": [
        "<a href=\"https://colab.research.google.com/github/JayeMineM/DJSc_w3schools-database/blob/master/SQLite3_dumbW3schData_PandasReadSql.ipynb\" target=\"_parent\"><img src=\"https://colab.research.google.com/assets/colab-badge.svg\" alt=\"Open In Colab\"/></a>"
      ]
    },
    {
      "cell_type": "code",
      "execution_count": 1,
      "metadata": {
        "id": "VGP-Q-uadqm3"
      },
      "outputs": [],
      "source": [
        "import sqlite3\n",
        "conn=sqlite3.connect(':memory:')\n",
        "c=conn.cursor()\n"
      ]
    },
    {
      "cell_type": "markdown",
      "source": [
        "# Create ```Table_name``` & Dumb DATA from SQLfile in DJSc-Github_fork\n",
        "\n",
        "https://github.com/JayeMineM/DJSc_w3schools-database/blob/master/w3schools.sql\n"
      ],
      "metadata": {
        "id": "sg5b2Ao3V9uh"
      }
    },
    {
      "cell_type": "markdown",
      "source": [],
      "metadata": {
        "id": "tw1q3z2Is6sQ"
      }
    },
    {
      "cell_type": "code",
      "execution_count": 2,
      "metadata": {
        "colab": {
          "base_uri": "https://localhost:8080/"
        },
        "id": "D2HYZwNtf6Ul",
        "outputId": "918f2426-19a9-4cdd-b439-cf24cb5544a6"
      },
      "outputs": [
        {
          "output_type": "execute_result",
          "data": {
            "text/plain": [
              "<sqlite3.Cursor at 0x7cecdf46a9c0>"
            ]
          },
          "metadata": {},
          "execution_count": 2
        }
      ],
      "source": [
        "#c.execute(\"DROP TABLE 'Categories'\") #uncommment post-Table Creation\n",
        "c.execute(\"CREATE TABLE `Categories` (`CategoryID` int(11) NOT NULL,`CategoryName` varchar(255) DEFAULT NULL,`Description` varchar(255) DEFAULT NULL)\")"
      ]
    },
    {
      "cell_type": "code",
      "source": [
        "# confirming table creation\n",
        "c.execute(\"SELECT name from sqlite_master\")\n",
        "c.fetchone()"
      ],
      "metadata": {
        "colab": {
          "base_uri": "https://localhost:8080/"
        },
        "id": "NDJyzgyZA8Ti",
        "outputId": "5be0b8a7-e013-493a-c86d-524b3a4e0a05"
      },
      "execution_count": 3,
      "outputs": [
        {
          "output_type": "execute_result",
          "data": {
            "text/plain": [
              "('Categories',)"
            ]
          },
          "metadata": {},
          "execution_count": 3
        }
      ]
    },
    {
      "cell_type": "code",
      "execution_count": 4,
      "metadata": {
        "id": "cA5m9OI7ienY"
      },
      "outputs": [],
      "source": [
        "import pandas as pd\n",
        "df=pd.read_sql('SELECT * FROM Categories',conn)"
      ]
    },
    {
      "cell_type": "code",
      "execution_count": 5,
      "metadata": {
        "colab": {
          "base_uri": "https://localhost:8080/",
          "height": 89
        },
        "id": "TvGbPm9rj1gv",
        "outputId": "407a49bb-21a1-4956-e4af-8f4e05bd2d65"
      },
      "outputs": [
        {
          "output_type": "execute_result",
          "data": {
            "text/plain": [
              "Empty DataFrame\n",
              "Columns: [CategoryID, CategoryName, Description]\n",
              "Index: []"
            ],
            "text/html": [
              "\n",
              "  <div id=\"df-09244743-1cd2-4665-b9ff-a5772e91219d\" class=\"colab-df-container\">\n",
              "    <div>\n",
              "<style scoped>\n",
              "    .dataframe tbody tr th:only-of-type {\n",
              "        vertical-align: middle;\n",
              "    }\n",
              "\n",
              "    .dataframe tbody tr th {\n",
              "        vertical-align: top;\n",
              "    }\n",
              "\n",
              "    .dataframe thead th {\n",
              "        text-align: right;\n",
              "    }\n",
              "</style>\n",
              "<table border=\"1\" class=\"dataframe\">\n",
              "  <thead>\n",
              "    <tr style=\"text-align: right;\">\n",
              "      <th></th>\n",
              "      <th>CategoryID</th>\n",
              "      <th>CategoryName</th>\n",
              "      <th>Description</th>\n",
              "    </tr>\n",
              "  </thead>\n",
              "  <tbody>\n",
              "  </tbody>\n",
              "</table>\n",
              "</div>\n",
              "    <div class=\"colab-df-buttons\">\n",
              "\n",
              "  <div class=\"colab-df-container\">\n",
              "    <button class=\"colab-df-convert\" onclick=\"convertToInteractive('df-09244743-1cd2-4665-b9ff-a5772e91219d')\"\n",
              "            title=\"Convert this dataframe to an interactive table.\"\n",
              "            style=\"display:none;\">\n",
              "\n",
              "  <svg xmlns=\"http://www.w3.org/2000/svg\" height=\"24px\" viewBox=\"0 -960 960 960\">\n",
              "    <path d=\"M120-120v-720h720v720H120Zm60-500h600v-160H180v160Zm220 220h160v-160H400v160Zm0 220h160v-160H400v160ZM180-400h160v-160H180v160Zm440 0h160v-160H620v160ZM180-180h160v-160H180v160Zm440 0h160v-160H620v160Z\"/>\n",
              "  </svg>\n",
              "    </button>\n",
              "\n",
              "  <style>\n",
              "    .colab-df-container {\n",
              "      display:flex;\n",
              "      gap: 12px;\n",
              "    }\n",
              "\n",
              "    .colab-df-convert {\n",
              "      background-color: #E8F0FE;\n",
              "      border: none;\n",
              "      border-radius: 50%;\n",
              "      cursor: pointer;\n",
              "      display: none;\n",
              "      fill: #1967D2;\n",
              "      height: 32px;\n",
              "      padding: 0 0 0 0;\n",
              "      width: 32px;\n",
              "    }\n",
              "\n",
              "    .colab-df-convert:hover {\n",
              "      background-color: #E2EBFA;\n",
              "      box-shadow: 0px 1px 2px rgba(60, 64, 67, 0.3), 0px 1px 3px 1px rgba(60, 64, 67, 0.15);\n",
              "      fill: #174EA6;\n",
              "    }\n",
              "\n",
              "    .colab-df-buttons div {\n",
              "      margin-bottom: 4px;\n",
              "    }\n",
              "\n",
              "    [theme=dark] .colab-df-convert {\n",
              "      background-color: #3B4455;\n",
              "      fill: #D2E3FC;\n",
              "    }\n",
              "\n",
              "    [theme=dark] .colab-df-convert:hover {\n",
              "      background-color: #434B5C;\n",
              "      box-shadow: 0px 1px 3px 1px rgba(0, 0, 0, 0.15);\n",
              "      filter: drop-shadow(0px 1px 2px rgba(0, 0, 0, 0.3));\n",
              "      fill: #FFFFFF;\n",
              "    }\n",
              "  </style>\n",
              "\n",
              "    <script>\n",
              "      const buttonEl =\n",
              "        document.querySelector('#df-09244743-1cd2-4665-b9ff-a5772e91219d button.colab-df-convert');\n",
              "      buttonEl.style.display =\n",
              "        google.colab.kernel.accessAllowed ? 'block' : 'none';\n",
              "\n",
              "      async function convertToInteractive(key) {\n",
              "        const element = document.querySelector('#df-09244743-1cd2-4665-b9ff-a5772e91219d');\n",
              "        const dataTable =\n",
              "          await google.colab.kernel.invokeFunction('convertToInteractive',\n",
              "                                                    [key], {});\n",
              "        if (!dataTable) return;\n",
              "\n",
              "        const docLinkHtml = 'Like what you see? Visit the ' +\n",
              "          '<a target=\"_blank\" href=https://colab.research.google.com/notebooks/data_table.ipynb>data table notebook</a>'\n",
              "          + ' to learn more about interactive tables.';\n",
              "        element.innerHTML = '';\n",
              "        dataTable['output_type'] = 'display_data';\n",
              "        await google.colab.output.renderOutput(dataTable, element);\n",
              "        const docLink = document.createElement('div');\n",
              "        docLink.innerHTML = docLinkHtml;\n",
              "        element.appendChild(docLink);\n",
              "      }\n",
              "    </script>\n",
              "  </div>\n",
              "\n",
              "\n",
              "  <div id=\"id_701b1f8d-be9b-4697-87dc-e25b3f390349\">\n",
              "    <style>\n",
              "      .colab-df-generate {\n",
              "        background-color: #E8F0FE;\n",
              "        border: none;\n",
              "        border-radius: 50%;\n",
              "        cursor: pointer;\n",
              "        display: none;\n",
              "        fill: #1967D2;\n",
              "        height: 32px;\n",
              "        padding: 0 0 0 0;\n",
              "        width: 32px;\n",
              "      }\n",
              "\n",
              "      .colab-df-generate:hover {\n",
              "        background-color: #E2EBFA;\n",
              "        box-shadow: 0px 1px 2px rgba(60, 64, 67, 0.3), 0px 1px 3px 1px rgba(60, 64, 67, 0.15);\n",
              "        fill: #174EA6;\n",
              "      }\n",
              "\n",
              "      [theme=dark] .colab-df-generate {\n",
              "        background-color: #3B4455;\n",
              "        fill: #D2E3FC;\n",
              "      }\n",
              "\n",
              "      [theme=dark] .colab-df-generate:hover {\n",
              "        background-color: #434B5C;\n",
              "        box-shadow: 0px 1px 3px 1px rgba(0, 0, 0, 0.15);\n",
              "        filter: drop-shadow(0px 1px 2px rgba(0, 0, 0, 0.3));\n",
              "        fill: #FFFFFF;\n",
              "      }\n",
              "    </style>\n",
              "    <button class=\"colab-df-generate\" onclick=\"generateWithVariable('df')\"\n",
              "            title=\"Generate code using this dataframe.\"\n",
              "            style=\"display:none;\">\n",
              "\n",
              "  <svg xmlns=\"http://www.w3.org/2000/svg\" height=\"24px\"viewBox=\"0 0 24 24\"\n",
              "       width=\"24px\">\n",
              "    <path d=\"M7,19H8.4L18.45,9,17,7.55,7,17.6ZM5,21V16.75L18.45,3.32a2,2,0,0,1,2.83,0l1.4,1.43a1.91,1.91,0,0,1,.58,1.4,1.91,1.91,0,0,1-.58,1.4L9.25,21ZM18.45,9,17,7.55Zm-12,3A5.31,5.31,0,0,0,4.9,8.1,5.31,5.31,0,0,0,1,6.5,5.31,5.31,0,0,0,4.9,4.9,5.31,5.31,0,0,0,6.5,1,5.31,5.31,0,0,0,8.1,4.9,5.31,5.31,0,0,0,12,6.5,5.46,5.46,0,0,0,6.5,12Z\"/>\n",
              "  </svg>\n",
              "    </button>\n",
              "    <script>\n",
              "      (() => {\n",
              "      const buttonEl =\n",
              "        document.querySelector('#id_701b1f8d-be9b-4697-87dc-e25b3f390349 button.colab-df-generate');\n",
              "      buttonEl.style.display =\n",
              "        google.colab.kernel.accessAllowed ? 'block' : 'none';\n",
              "\n",
              "      buttonEl.onclick = () => {\n",
              "        google.colab.notebook.generateWithVariable('df');\n",
              "      }\n",
              "      })();\n",
              "    </script>\n",
              "  </div>\n",
              "\n",
              "    </div>\n",
              "  </div>\n"
            ],
            "application/vnd.google.colaboratory.intrinsic+json": {
              "type": "dataframe",
              "variable_name": "df",
              "repr_error": "Out of range float values are not JSON compliant: nan"
            }
          },
          "metadata": {},
          "execution_count": 5
        }
      ],
      "source": [
        "df"
      ]
    },
    {
      "cell_type": "code",
      "execution_count": 6,
      "metadata": {
        "id": "h5ybKZMXkfxl"
      },
      "outputs": [],
      "source": [
        "#defCat=pd.read_sql_table('Categories',conn)"
      ]
    },
    {
      "cell_type": "markdown",
      "metadata": {
        "id": "ovw_ygDtlFTS"
      },
      "source": [
        "## Create ```Categories``` table  & Dumb values\n",
        "```\n",
        "INSERT INTO `categories` (`CategoryID`, `CategoryName`, `Description`) VALUES\n",
        "(1, 'Beverages', 'Soft drinks, coffees, teas, beers, and ales'),\n",
        "(2, 'Condiments', 'Sweet and savory sauces, relishes, spreads, and seasonings'),\n",
        "(3, 'Confections', 'Desserts, candies, and sweet breads'),\n",
        "(4, 'Dairy Products', 'Cheeses'),\n",
        "(5, 'Grains/Cereals', 'Breads, crackers, pasta, and cereal'),\n",
        "(6, 'Meat/Poultry', 'Prepared meats'),\n",
        "(7, 'Produce', 'Dried fruit and bean curd'),\n",
        "(8, 'Seafood', 'Seaweed and fish');\n",
        "```"
      ]
    },
    {
      "cell_type": "code",
      "source": [
        "#values to dumb\n",
        "datCateg=[(1, 'Beverages', 'Soft drinks, coffees, teas, beers, and ales'),\n",
        "(2, 'Condiments', 'Sweet and savory sauces, relishes, spreads, and seasonings'),\n",
        "(3, 'Confections', 'Desserts, candies, and sweet breads'),\n",
        "(4, 'Dairy Products', 'Cheeses'),\n",
        "(5, 'Grains/Cereals', 'Breads, crackers, pasta, and cereal'),\n",
        "(6, 'Meat/Poultry', 'Prepared meats'),\n",
        "(7, 'Produce', 'Dried fruit and bean curd'),\n",
        "(8, 'Seafood', 'Seaweed and fish')]\n",
        "#empty table if not the case\n",
        "c.execute(\"DELETE FROM `Categories`\")\n",
        "#insert values in table Categories\n",
        "c.executemany(\"INSERT INTO `Categories`VALUES (?,?,?)\",datCateg)\n",
        "conn.commit()"
      ],
      "metadata": {
        "id": "sbIXlJemUClv"
      },
      "execution_count": 7,
      "outputs": []
    },
    {
      "cell_type": "code",
      "source": [
        "dfCateg=pd.read_sql('SELECT * FROM Categories',conn)\n",
        "dfCateg"
      ],
      "metadata": {
        "colab": {
          "base_uri": "https://localhost:8080/",
          "height": 300
        },
        "id": "XY4xdEL1Xi8n",
        "outputId": "2c3953b8-63b7-426e-c157-0a2ecc06aae2"
      },
      "execution_count": 8,
      "outputs": [
        {
          "output_type": "execute_result",
          "data": {
            "text/plain": [
              "   CategoryID    CategoryName  \\\n",
              "0           1       Beverages   \n",
              "1           2      Condiments   \n",
              "2           3     Confections   \n",
              "3           4  Dairy Products   \n",
              "4           5  Grains/Cereals   \n",
              "5           6    Meat/Poultry   \n",
              "6           7         Produce   \n",
              "7           8         Seafood   \n",
              "\n",
              "                                         Description  \n",
              "0        Soft drinks, coffees, teas, beers, and ales  \n",
              "1  Sweet and savory sauces, relishes, spreads, an...  \n",
              "2                Desserts, candies, and sweet breads  \n",
              "3                                            Cheeses  \n",
              "4                Breads, crackers, pasta, and cereal  \n",
              "5                                     Prepared meats  \n",
              "6                          Dried fruit and bean curd  \n",
              "7                                   Seaweed and fish  "
            ],
            "text/html": [
              "\n",
              "  <div id=\"df-e9af83c9-a0a6-4eda-a39e-d1f25be14322\" class=\"colab-df-container\">\n",
              "    <div>\n",
              "<style scoped>\n",
              "    .dataframe tbody tr th:only-of-type {\n",
              "        vertical-align: middle;\n",
              "    }\n",
              "\n",
              "    .dataframe tbody tr th {\n",
              "        vertical-align: top;\n",
              "    }\n",
              "\n",
              "    .dataframe thead th {\n",
              "        text-align: right;\n",
              "    }\n",
              "</style>\n",
              "<table border=\"1\" class=\"dataframe\">\n",
              "  <thead>\n",
              "    <tr style=\"text-align: right;\">\n",
              "      <th></th>\n",
              "      <th>CategoryID</th>\n",
              "      <th>CategoryName</th>\n",
              "      <th>Description</th>\n",
              "    </tr>\n",
              "  </thead>\n",
              "  <tbody>\n",
              "    <tr>\n",
              "      <th>0</th>\n",
              "      <td>1</td>\n",
              "      <td>Beverages</td>\n",
              "      <td>Soft drinks, coffees, teas, beers, and ales</td>\n",
              "    </tr>\n",
              "    <tr>\n",
              "      <th>1</th>\n",
              "      <td>2</td>\n",
              "      <td>Condiments</td>\n",
              "      <td>Sweet and savory sauces, relishes, spreads, an...</td>\n",
              "    </tr>\n",
              "    <tr>\n",
              "      <th>2</th>\n",
              "      <td>3</td>\n",
              "      <td>Confections</td>\n",
              "      <td>Desserts, candies, and sweet breads</td>\n",
              "    </tr>\n",
              "    <tr>\n",
              "      <th>3</th>\n",
              "      <td>4</td>\n",
              "      <td>Dairy Products</td>\n",
              "      <td>Cheeses</td>\n",
              "    </tr>\n",
              "    <tr>\n",
              "      <th>4</th>\n",
              "      <td>5</td>\n",
              "      <td>Grains/Cereals</td>\n",
              "      <td>Breads, crackers, pasta, and cereal</td>\n",
              "    </tr>\n",
              "    <tr>\n",
              "      <th>5</th>\n",
              "      <td>6</td>\n",
              "      <td>Meat/Poultry</td>\n",
              "      <td>Prepared meats</td>\n",
              "    </tr>\n",
              "    <tr>\n",
              "      <th>6</th>\n",
              "      <td>7</td>\n",
              "      <td>Produce</td>\n",
              "      <td>Dried fruit and bean curd</td>\n",
              "    </tr>\n",
              "    <tr>\n",
              "      <th>7</th>\n",
              "      <td>8</td>\n",
              "      <td>Seafood</td>\n",
              "      <td>Seaweed and fish</td>\n",
              "    </tr>\n",
              "  </tbody>\n",
              "</table>\n",
              "</div>\n",
              "    <div class=\"colab-df-buttons\">\n",
              "\n",
              "  <div class=\"colab-df-container\">\n",
              "    <button class=\"colab-df-convert\" onclick=\"convertToInteractive('df-e9af83c9-a0a6-4eda-a39e-d1f25be14322')\"\n",
              "            title=\"Convert this dataframe to an interactive table.\"\n",
              "            style=\"display:none;\">\n",
              "\n",
              "  <svg xmlns=\"http://www.w3.org/2000/svg\" height=\"24px\" viewBox=\"0 -960 960 960\">\n",
              "    <path d=\"M120-120v-720h720v720H120Zm60-500h600v-160H180v160Zm220 220h160v-160H400v160Zm0 220h160v-160H400v160ZM180-400h160v-160H180v160Zm440 0h160v-160H620v160ZM180-180h160v-160H180v160Zm440 0h160v-160H620v160Z\"/>\n",
              "  </svg>\n",
              "    </button>\n",
              "\n",
              "  <style>\n",
              "    .colab-df-container {\n",
              "      display:flex;\n",
              "      gap: 12px;\n",
              "    }\n",
              "\n",
              "    .colab-df-convert {\n",
              "      background-color: #E8F0FE;\n",
              "      border: none;\n",
              "      border-radius: 50%;\n",
              "      cursor: pointer;\n",
              "      display: none;\n",
              "      fill: #1967D2;\n",
              "      height: 32px;\n",
              "      padding: 0 0 0 0;\n",
              "      width: 32px;\n",
              "    }\n",
              "\n",
              "    .colab-df-convert:hover {\n",
              "      background-color: #E2EBFA;\n",
              "      box-shadow: 0px 1px 2px rgba(60, 64, 67, 0.3), 0px 1px 3px 1px rgba(60, 64, 67, 0.15);\n",
              "      fill: #174EA6;\n",
              "    }\n",
              "\n",
              "    .colab-df-buttons div {\n",
              "      margin-bottom: 4px;\n",
              "    }\n",
              "\n",
              "    [theme=dark] .colab-df-convert {\n",
              "      background-color: #3B4455;\n",
              "      fill: #D2E3FC;\n",
              "    }\n",
              "\n",
              "    [theme=dark] .colab-df-convert:hover {\n",
              "      background-color: #434B5C;\n",
              "      box-shadow: 0px 1px 3px 1px rgba(0, 0, 0, 0.15);\n",
              "      filter: drop-shadow(0px 1px 2px rgba(0, 0, 0, 0.3));\n",
              "      fill: #FFFFFF;\n",
              "    }\n",
              "  </style>\n",
              "\n",
              "    <script>\n",
              "      const buttonEl =\n",
              "        document.querySelector('#df-e9af83c9-a0a6-4eda-a39e-d1f25be14322 button.colab-df-convert');\n",
              "      buttonEl.style.display =\n",
              "        google.colab.kernel.accessAllowed ? 'block' : 'none';\n",
              "\n",
              "      async function convertToInteractive(key) {\n",
              "        const element = document.querySelector('#df-e9af83c9-a0a6-4eda-a39e-d1f25be14322');\n",
              "        const dataTable =\n",
              "          await google.colab.kernel.invokeFunction('convertToInteractive',\n",
              "                                                    [key], {});\n",
              "        if (!dataTable) return;\n",
              "\n",
              "        const docLinkHtml = 'Like what you see? Visit the ' +\n",
              "          '<a target=\"_blank\" href=https://colab.research.google.com/notebooks/data_table.ipynb>data table notebook</a>'\n",
              "          + ' to learn more about interactive tables.';\n",
              "        element.innerHTML = '';\n",
              "        dataTable['output_type'] = 'display_data';\n",
              "        await google.colab.output.renderOutput(dataTable, element);\n",
              "        const docLink = document.createElement('div');\n",
              "        docLink.innerHTML = docLinkHtml;\n",
              "        element.appendChild(docLink);\n",
              "      }\n",
              "    </script>\n",
              "  </div>\n",
              "\n",
              "\n",
              "<div id=\"df-98da2adf-6a47-497e-88e5-7689a1b014db\">\n",
              "  <button class=\"colab-df-quickchart\" onclick=\"quickchart('df-98da2adf-6a47-497e-88e5-7689a1b014db')\"\n",
              "            title=\"Suggest charts\"\n",
              "            style=\"display:none;\">\n",
              "\n",
              "<svg xmlns=\"http://www.w3.org/2000/svg\" height=\"24px\"viewBox=\"0 0 24 24\"\n",
              "     width=\"24px\">\n",
              "    <g>\n",
              "        <path d=\"M19 3H5c-1.1 0-2 .9-2 2v14c0 1.1.9 2 2 2h14c1.1 0 2-.9 2-2V5c0-1.1-.9-2-2-2zM9 17H7v-7h2v7zm4 0h-2V7h2v10zm4 0h-2v-4h2v4z\"/>\n",
              "    </g>\n",
              "</svg>\n",
              "  </button>\n",
              "\n",
              "<style>\n",
              "  .colab-df-quickchart {\n",
              "      --bg-color: #E8F0FE;\n",
              "      --fill-color: #1967D2;\n",
              "      --hover-bg-color: #E2EBFA;\n",
              "      --hover-fill-color: #174EA6;\n",
              "      --disabled-fill-color: #AAA;\n",
              "      --disabled-bg-color: #DDD;\n",
              "  }\n",
              "\n",
              "  [theme=dark] .colab-df-quickchart {\n",
              "      --bg-color: #3B4455;\n",
              "      --fill-color: #D2E3FC;\n",
              "      --hover-bg-color: #434B5C;\n",
              "      --hover-fill-color: #FFFFFF;\n",
              "      --disabled-bg-color: #3B4455;\n",
              "      --disabled-fill-color: #666;\n",
              "  }\n",
              "\n",
              "  .colab-df-quickchart {\n",
              "    background-color: var(--bg-color);\n",
              "    border: none;\n",
              "    border-radius: 50%;\n",
              "    cursor: pointer;\n",
              "    display: none;\n",
              "    fill: var(--fill-color);\n",
              "    height: 32px;\n",
              "    padding: 0;\n",
              "    width: 32px;\n",
              "  }\n",
              "\n",
              "  .colab-df-quickchart:hover {\n",
              "    background-color: var(--hover-bg-color);\n",
              "    box-shadow: 0 1px 2px rgba(60, 64, 67, 0.3), 0 1px 3px 1px rgba(60, 64, 67, 0.15);\n",
              "    fill: var(--button-hover-fill-color);\n",
              "  }\n",
              "\n",
              "  .colab-df-quickchart-complete:disabled,\n",
              "  .colab-df-quickchart-complete:disabled:hover {\n",
              "    background-color: var(--disabled-bg-color);\n",
              "    fill: var(--disabled-fill-color);\n",
              "    box-shadow: none;\n",
              "  }\n",
              "\n",
              "  .colab-df-spinner {\n",
              "    border: 2px solid var(--fill-color);\n",
              "    border-color: transparent;\n",
              "    border-bottom-color: var(--fill-color);\n",
              "    animation:\n",
              "      spin 1s steps(1) infinite;\n",
              "  }\n",
              "\n",
              "  @keyframes spin {\n",
              "    0% {\n",
              "      border-color: transparent;\n",
              "      border-bottom-color: var(--fill-color);\n",
              "      border-left-color: var(--fill-color);\n",
              "    }\n",
              "    20% {\n",
              "      border-color: transparent;\n",
              "      border-left-color: var(--fill-color);\n",
              "      border-top-color: var(--fill-color);\n",
              "    }\n",
              "    30% {\n",
              "      border-color: transparent;\n",
              "      border-left-color: var(--fill-color);\n",
              "      border-top-color: var(--fill-color);\n",
              "      border-right-color: var(--fill-color);\n",
              "    }\n",
              "    40% {\n",
              "      border-color: transparent;\n",
              "      border-right-color: var(--fill-color);\n",
              "      border-top-color: var(--fill-color);\n",
              "    }\n",
              "    60% {\n",
              "      border-color: transparent;\n",
              "      border-right-color: var(--fill-color);\n",
              "    }\n",
              "    80% {\n",
              "      border-color: transparent;\n",
              "      border-right-color: var(--fill-color);\n",
              "      border-bottom-color: var(--fill-color);\n",
              "    }\n",
              "    90% {\n",
              "      border-color: transparent;\n",
              "      border-bottom-color: var(--fill-color);\n",
              "    }\n",
              "  }\n",
              "</style>\n",
              "\n",
              "  <script>\n",
              "    async function quickchart(key) {\n",
              "      const quickchartButtonEl =\n",
              "        document.querySelector('#' + key + ' button');\n",
              "      quickchartButtonEl.disabled = true;  // To prevent multiple clicks.\n",
              "      quickchartButtonEl.classList.add('colab-df-spinner');\n",
              "      try {\n",
              "        const charts = await google.colab.kernel.invokeFunction(\n",
              "            'suggestCharts', [key], {});\n",
              "      } catch (error) {\n",
              "        console.error('Error during call to suggestCharts:', error);\n",
              "      }\n",
              "      quickchartButtonEl.classList.remove('colab-df-spinner');\n",
              "      quickchartButtonEl.classList.add('colab-df-quickchart-complete');\n",
              "    }\n",
              "    (() => {\n",
              "      let quickchartButtonEl =\n",
              "        document.querySelector('#df-98da2adf-6a47-497e-88e5-7689a1b014db button');\n",
              "      quickchartButtonEl.style.display =\n",
              "        google.colab.kernel.accessAllowed ? 'block' : 'none';\n",
              "    })();\n",
              "  </script>\n",
              "</div>\n",
              "\n",
              "  <div id=\"id_b2c8d3f4-2676-4cfa-ada9-8db4dfbf421d\">\n",
              "    <style>\n",
              "      .colab-df-generate {\n",
              "        background-color: #E8F0FE;\n",
              "        border: none;\n",
              "        border-radius: 50%;\n",
              "        cursor: pointer;\n",
              "        display: none;\n",
              "        fill: #1967D2;\n",
              "        height: 32px;\n",
              "        padding: 0 0 0 0;\n",
              "        width: 32px;\n",
              "      }\n",
              "\n",
              "      .colab-df-generate:hover {\n",
              "        background-color: #E2EBFA;\n",
              "        box-shadow: 0px 1px 2px rgba(60, 64, 67, 0.3), 0px 1px 3px 1px rgba(60, 64, 67, 0.15);\n",
              "        fill: #174EA6;\n",
              "      }\n",
              "\n",
              "      [theme=dark] .colab-df-generate {\n",
              "        background-color: #3B4455;\n",
              "        fill: #D2E3FC;\n",
              "      }\n",
              "\n",
              "      [theme=dark] .colab-df-generate:hover {\n",
              "        background-color: #434B5C;\n",
              "        box-shadow: 0px 1px 3px 1px rgba(0, 0, 0, 0.15);\n",
              "        filter: drop-shadow(0px 1px 2px rgba(0, 0, 0, 0.3));\n",
              "        fill: #FFFFFF;\n",
              "      }\n",
              "    </style>\n",
              "    <button class=\"colab-df-generate\" onclick=\"generateWithVariable('dfCateg')\"\n",
              "            title=\"Generate code using this dataframe.\"\n",
              "            style=\"display:none;\">\n",
              "\n",
              "  <svg xmlns=\"http://www.w3.org/2000/svg\" height=\"24px\"viewBox=\"0 0 24 24\"\n",
              "       width=\"24px\">\n",
              "    <path d=\"M7,19H8.4L18.45,9,17,7.55,7,17.6ZM5,21V16.75L18.45,3.32a2,2,0,0,1,2.83,0l1.4,1.43a1.91,1.91,0,0,1,.58,1.4,1.91,1.91,0,0,1-.58,1.4L9.25,21ZM18.45,9,17,7.55Zm-12,3A5.31,5.31,0,0,0,4.9,8.1,5.31,5.31,0,0,0,1,6.5,5.31,5.31,0,0,0,4.9,4.9,5.31,5.31,0,0,0,6.5,1,5.31,5.31,0,0,0,8.1,4.9,5.31,5.31,0,0,0,12,6.5,5.46,5.46,0,0,0,6.5,12Z\"/>\n",
              "  </svg>\n",
              "    </button>\n",
              "    <script>\n",
              "      (() => {\n",
              "      const buttonEl =\n",
              "        document.querySelector('#id_b2c8d3f4-2676-4cfa-ada9-8db4dfbf421d button.colab-df-generate');\n",
              "      buttonEl.style.display =\n",
              "        google.colab.kernel.accessAllowed ? 'block' : 'none';\n",
              "\n",
              "      buttonEl.onclick = () => {\n",
              "        google.colab.notebook.generateWithVariable('dfCateg');\n",
              "      }\n",
              "      })();\n",
              "    </script>\n",
              "  </div>\n",
              "\n",
              "    </div>\n",
              "  </div>\n"
            ],
            "application/vnd.google.colaboratory.intrinsic+json": {
              "type": "dataframe",
              "variable_name": "dfCateg",
              "summary": "{\n  \"name\": \"dfCateg\",\n  \"rows\": 8,\n  \"fields\": [\n    {\n      \"column\": \"CategoryID\",\n      \"properties\": {\n        \"dtype\": \"number\",\n        \"std\": 2,\n        \"min\": 1,\n        \"max\": 8,\n        \"num_unique_values\": 8,\n        \"samples\": [\n          2,\n          6,\n          1\n        ],\n        \"semantic_type\": \"\",\n        \"description\": \"\"\n      }\n    },\n    {\n      \"column\": \"CategoryName\",\n      \"properties\": {\n        \"dtype\": \"string\",\n        \"num_unique_values\": 8,\n        \"samples\": [\n          \"Condiments\",\n          \"Meat/Poultry\",\n          \"Beverages\"\n        ],\n        \"semantic_type\": \"\",\n        \"description\": \"\"\n      }\n    },\n    {\n      \"column\": \"Description\",\n      \"properties\": {\n        \"dtype\": \"string\",\n        \"num_unique_values\": 8,\n        \"samples\": [\n          \"Sweet and savory sauces, relishes, spreads, and seasonings\",\n          \"Prepared meats\",\n          \"Soft drinks, coffees, teas, beers, and ales\"\n        ],\n        \"semantic_type\": \"\",\n        \"description\": \"\"\n      }\n    }\n  ]\n}"
            }
          },
          "metadata": {},
          "execution_count": 8
        }
      ]
    },
    {
      "cell_type": "code",
      "source": [
        "dfCateg.info()"
      ],
      "metadata": {
        "colab": {
          "base_uri": "https://localhost:8080/"
        },
        "id": "50gxRD9YZImm",
        "outputId": "29c17e41-ba54-4f74-90f7-4edd773873a9"
      },
      "execution_count": 9,
      "outputs": [
        {
          "output_type": "stream",
          "name": "stdout",
          "text": [
            "<class 'pandas.core.frame.DataFrame'>\n",
            "RangeIndex: 8 entries, 0 to 7\n",
            "Data columns (total 3 columns):\n",
            " #   Column        Non-Null Count  Dtype \n",
            "---  ------        --------------  ----- \n",
            " 0   CategoryID    8 non-null      int64 \n",
            " 1   CategoryName  8 non-null      object\n",
            " 2   Description   8 non-null      object\n",
            "dtypes: int64(1), object(2)\n",
            "memory usage: 320.0+ bytes\n"
          ]
        }
      ]
    },
    {
      "cell_type": "code",
      "source": [
        "dfCateg.columns"
      ],
      "metadata": {
        "colab": {
          "base_uri": "https://localhost:8080/"
        },
        "id": "h-moN9OUuGrI",
        "outputId": "050d78e9-c8c6-4027-ec5a-69a5c5276294"
      },
      "execution_count": 10,
      "outputs": [
        {
          "output_type": "execute_result",
          "data": {
            "text/plain": [
              "Index(['CategoryID', 'CategoryName', 'Description'], dtype='object')"
            ]
          },
          "metadata": {},
          "execution_count": 10
        }
      ]
    },
    {
      "cell_type": "code",
      "source": [
        "len(dfCateg.columns)"
      ],
      "metadata": {
        "colab": {
          "base_uri": "https://localhost:8080/"
        },
        "id": "fQeaxxYQuXuV",
        "outputId": "7a0d88f9-650e-4b73-b968-6cd9f6041b10"
      },
      "execution_count": 11,
      "outputs": [
        {
          "output_type": "execute_result",
          "data": {
            "text/plain": [
              "3"
            ]
          },
          "metadata": {},
          "execution_count": 11
        }
      ]
    },
    {
      "cell_type": "markdown",
      "source": [
        "## SAMPLES"
      ],
      "metadata": {
        "id": "zNjEnsQ6l9RF"
      }
    },
    {
      "cell_type": "markdown",
      "source": [
        "```\n",
        "#values to dumb\n",
        "datCateg=[]\n",
        "#empty table if not the case\n",
        "c.execute(\"DELETE FROM `Categories`\")\n",
        "#insert values in table Categories\n",
        "c.executemany(\"INSERT INTO `Categories`VALUES (?,?,?)\",datCateg)\n",
        "conn.commit()\n",
        "```"
      ],
      "metadata": {
        "id": "D6H_3PXKdT2o"
      }
    },
    {
      "cell_type": "markdown",
      "source": [
        "```\n",
        "#c.execute(\"DROP TABLE 'Customers' \") #Uncommemt once table created\n",
        "c.execute(\"CREATE TABLE ' table_name' (...))\n",
        "\n",
        "c.execute(\"SELECT name from squilte_master\")\n",
        "c.fetchall()\n",
        "\n",
        "```"
      ],
      "metadata": {
        "id": "dg_ZyYfFkfA5"
      }
    },
    {
      "cell_type": "markdown",
      "source": [
        "```\n",
        "#values to dumb\n",
        "datCust=[]\n",
        "#empty table if not the case\n",
        "c.execute(\"DELETE FROM `Customers`\")\n",
        "#insert values in table Categories\n",
        "c.executemany(\"INSERT INTO `Customers`VALUES (?,?,?)\",datCust)\n",
        "conn.commit()\n",
        "```"
      ],
      "metadata": {
        "id": "CvLTSbqJmpEo"
      }
    },
    {
      "cell_type": "code",
      "source": [
        "# Written DJSc_procedure to dumb values\n",
        "def dumbValues(table_name, dat_table):\n",
        "  c.execute(\"DELETE FROM `\"+table_name+\"`\") # syntax for table_Name as parameter/argumenjt in function/procedure\n",
        "  #empty table if not the case\n",
        "  c.execute(\"DELETE FROM \"+table_name+\"\")\n",
        "  #insert values in table table_name\n",
        "  c.executemany(\"INSERT INTO \"+table_name+\" VALUES (?,?,?)\", dat_table)\n",
        "  conn.commit()\n",
        "  dfTab=pd.read_sql(\"SELECT * FROM \"+table_name+\"\",conn)\n",
        "  return dfTab"
      ],
      "metadata": {
        "id": "pxnJcrpzmt4x"
      },
      "execution_count": 12,
      "outputs": []
    },
    {
      "cell_type": "code",
      "source": [
        "dumbValues('Categories',datCateg)"
      ],
      "metadata": {
        "colab": {
          "base_uri": "https://localhost:8080/",
          "height": 300
        },
        "id": "Yu00qk0zoZAE",
        "outputId": "2d92f73f-8f03-4d42-d6e9-ba3ff1a6e3cc"
      },
      "execution_count": 13,
      "outputs": [
        {
          "output_type": "execute_result",
          "data": {
            "text/plain": [
              "   CategoryID    CategoryName  \\\n",
              "0           1       Beverages   \n",
              "1           2      Condiments   \n",
              "2           3     Confections   \n",
              "3           4  Dairy Products   \n",
              "4           5  Grains/Cereals   \n",
              "5           6    Meat/Poultry   \n",
              "6           7         Produce   \n",
              "7           8         Seafood   \n",
              "\n",
              "                                         Description  \n",
              "0        Soft drinks, coffees, teas, beers, and ales  \n",
              "1  Sweet and savory sauces, relishes, spreads, an...  \n",
              "2                Desserts, candies, and sweet breads  \n",
              "3                                            Cheeses  \n",
              "4                Breads, crackers, pasta, and cereal  \n",
              "5                                     Prepared meats  \n",
              "6                          Dried fruit and bean curd  \n",
              "7                                   Seaweed and fish  "
            ],
            "text/html": [
              "\n",
              "  <div id=\"df-be6910ed-1477-4836-8184-1880d6e4c89a\" class=\"colab-df-container\">\n",
              "    <div>\n",
              "<style scoped>\n",
              "    .dataframe tbody tr th:only-of-type {\n",
              "        vertical-align: middle;\n",
              "    }\n",
              "\n",
              "    .dataframe tbody tr th {\n",
              "        vertical-align: top;\n",
              "    }\n",
              "\n",
              "    .dataframe thead th {\n",
              "        text-align: right;\n",
              "    }\n",
              "</style>\n",
              "<table border=\"1\" class=\"dataframe\">\n",
              "  <thead>\n",
              "    <tr style=\"text-align: right;\">\n",
              "      <th></th>\n",
              "      <th>CategoryID</th>\n",
              "      <th>CategoryName</th>\n",
              "      <th>Description</th>\n",
              "    </tr>\n",
              "  </thead>\n",
              "  <tbody>\n",
              "    <tr>\n",
              "      <th>0</th>\n",
              "      <td>1</td>\n",
              "      <td>Beverages</td>\n",
              "      <td>Soft drinks, coffees, teas, beers, and ales</td>\n",
              "    </tr>\n",
              "    <tr>\n",
              "      <th>1</th>\n",
              "      <td>2</td>\n",
              "      <td>Condiments</td>\n",
              "      <td>Sweet and savory sauces, relishes, spreads, an...</td>\n",
              "    </tr>\n",
              "    <tr>\n",
              "      <th>2</th>\n",
              "      <td>3</td>\n",
              "      <td>Confections</td>\n",
              "      <td>Desserts, candies, and sweet breads</td>\n",
              "    </tr>\n",
              "    <tr>\n",
              "      <th>3</th>\n",
              "      <td>4</td>\n",
              "      <td>Dairy Products</td>\n",
              "      <td>Cheeses</td>\n",
              "    </tr>\n",
              "    <tr>\n",
              "      <th>4</th>\n",
              "      <td>5</td>\n",
              "      <td>Grains/Cereals</td>\n",
              "      <td>Breads, crackers, pasta, and cereal</td>\n",
              "    </tr>\n",
              "    <tr>\n",
              "      <th>5</th>\n",
              "      <td>6</td>\n",
              "      <td>Meat/Poultry</td>\n",
              "      <td>Prepared meats</td>\n",
              "    </tr>\n",
              "    <tr>\n",
              "      <th>6</th>\n",
              "      <td>7</td>\n",
              "      <td>Produce</td>\n",
              "      <td>Dried fruit and bean curd</td>\n",
              "    </tr>\n",
              "    <tr>\n",
              "      <th>7</th>\n",
              "      <td>8</td>\n",
              "      <td>Seafood</td>\n",
              "      <td>Seaweed and fish</td>\n",
              "    </tr>\n",
              "  </tbody>\n",
              "</table>\n",
              "</div>\n",
              "    <div class=\"colab-df-buttons\">\n",
              "\n",
              "  <div class=\"colab-df-container\">\n",
              "    <button class=\"colab-df-convert\" onclick=\"convertToInteractive('df-be6910ed-1477-4836-8184-1880d6e4c89a')\"\n",
              "            title=\"Convert this dataframe to an interactive table.\"\n",
              "            style=\"display:none;\">\n",
              "\n",
              "  <svg xmlns=\"http://www.w3.org/2000/svg\" height=\"24px\" viewBox=\"0 -960 960 960\">\n",
              "    <path d=\"M120-120v-720h720v720H120Zm60-500h600v-160H180v160Zm220 220h160v-160H400v160Zm0 220h160v-160H400v160ZM180-400h160v-160H180v160Zm440 0h160v-160H620v160ZM180-180h160v-160H180v160Zm440 0h160v-160H620v160Z\"/>\n",
              "  </svg>\n",
              "    </button>\n",
              "\n",
              "  <style>\n",
              "    .colab-df-container {\n",
              "      display:flex;\n",
              "      gap: 12px;\n",
              "    }\n",
              "\n",
              "    .colab-df-convert {\n",
              "      background-color: #E8F0FE;\n",
              "      border: none;\n",
              "      border-radius: 50%;\n",
              "      cursor: pointer;\n",
              "      display: none;\n",
              "      fill: #1967D2;\n",
              "      height: 32px;\n",
              "      padding: 0 0 0 0;\n",
              "      width: 32px;\n",
              "    }\n",
              "\n",
              "    .colab-df-convert:hover {\n",
              "      background-color: #E2EBFA;\n",
              "      box-shadow: 0px 1px 2px rgba(60, 64, 67, 0.3), 0px 1px 3px 1px rgba(60, 64, 67, 0.15);\n",
              "      fill: #174EA6;\n",
              "    }\n",
              "\n",
              "    .colab-df-buttons div {\n",
              "      margin-bottom: 4px;\n",
              "    }\n",
              "\n",
              "    [theme=dark] .colab-df-convert {\n",
              "      background-color: #3B4455;\n",
              "      fill: #D2E3FC;\n",
              "    }\n",
              "\n",
              "    [theme=dark] .colab-df-convert:hover {\n",
              "      background-color: #434B5C;\n",
              "      box-shadow: 0px 1px 3px 1px rgba(0, 0, 0, 0.15);\n",
              "      filter: drop-shadow(0px 1px 2px rgba(0, 0, 0, 0.3));\n",
              "      fill: #FFFFFF;\n",
              "    }\n",
              "  </style>\n",
              "\n",
              "    <script>\n",
              "      const buttonEl =\n",
              "        document.querySelector('#df-be6910ed-1477-4836-8184-1880d6e4c89a button.colab-df-convert');\n",
              "      buttonEl.style.display =\n",
              "        google.colab.kernel.accessAllowed ? 'block' : 'none';\n",
              "\n",
              "      async function convertToInteractive(key) {\n",
              "        const element = document.querySelector('#df-be6910ed-1477-4836-8184-1880d6e4c89a');\n",
              "        const dataTable =\n",
              "          await google.colab.kernel.invokeFunction('convertToInteractive',\n",
              "                                                    [key], {});\n",
              "        if (!dataTable) return;\n",
              "\n",
              "        const docLinkHtml = 'Like what you see? Visit the ' +\n",
              "          '<a target=\"_blank\" href=https://colab.research.google.com/notebooks/data_table.ipynb>data table notebook</a>'\n",
              "          + ' to learn more about interactive tables.';\n",
              "        element.innerHTML = '';\n",
              "        dataTable['output_type'] = 'display_data';\n",
              "        await google.colab.output.renderOutput(dataTable, element);\n",
              "        const docLink = document.createElement('div');\n",
              "        docLink.innerHTML = docLinkHtml;\n",
              "        element.appendChild(docLink);\n",
              "      }\n",
              "    </script>\n",
              "  </div>\n",
              "\n",
              "\n",
              "<div id=\"df-4e150cac-3495-418f-b92f-b7856197c7f2\">\n",
              "  <button class=\"colab-df-quickchart\" onclick=\"quickchart('df-4e150cac-3495-418f-b92f-b7856197c7f2')\"\n",
              "            title=\"Suggest charts\"\n",
              "            style=\"display:none;\">\n",
              "\n",
              "<svg xmlns=\"http://www.w3.org/2000/svg\" height=\"24px\"viewBox=\"0 0 24 24\"\n",
              "     width=\"24px\">\n",
              "    <g>\n",
              "        <path d=\"M19 3H5c-1.1 0-2 .9-2 2v14c0 1.1.9 2 2 2h14c1.1 0 2-.9 2-2V5c0-1.1-.9-2-2-2zM9 17H7v-7h2v7zm4 0h-2V7h2v10zm4 0h-2v-4h2v4z\"/>\n",
              "    </g>\n",
              "</svg>\n",
              "  </button>\n",
              "\n",
              "<style>\n",
              "  .colab-df-quickchart {\n",
              "      --bg-color: #E8F0FE;\n",
              "      --fill-color: #1967D2;\n",
              "      --hover-bg-color: #E2EBFA;\n",
              "      --hover-fill-color: #174EA6;\n",
              "      --disabled-fill-color: #AAA;\n",
              "      --disabled-bg-color: #DDD;\n",
              "  }\n",
              "\n",
              "  [theme=dark] .colab-df-quickchart {\n",
              "      --bg-color: #3B4455;\n",
              "      --fill-color: #D2E3FC;\n",
              "      --hover-bg-color: #434B5C;\n",
              "      --hover-fill-color: #FFFFFF;\n",
              "      --disabled-bg-color: #3B4455;\n",
              "      --disabled-fill-color: #666;\n",
              "  }\n",
              "\n",
              "  .colab-df-quickchart {\n",
              "    background-color: var(--bg-color);\n",
              "    border: none;\n",
              "    border-radius: 50%;\n",
              "    cursor: pointer;\n",
              "    display: none;\n",
              "    fill: var(--fill-color);\n",
              "    height: 32px;\n",
              "    padding: 0;\n",
              "    width: 32px;\n",
              "  }\n",
              "\n",
              "  .colab-df-quickchart:hover {\n",
              "    background-color: var(--hover-bg-color);\n",
              "    box-shadow: 0 1px 2px rgba(60, 64, 67, 0.3), 0 1px 3px 1px rgba(60, 64, 67, 0.15);\n",
              "    fill: var(--button-hover-fill-color);\n",
              "  }\n",
              "\n",
              "  .colab-df-quickchart-complete:disabled,\n",
              "  .colab-df-quickchart-complete:disabled:hover {\n",
              "    background-color: var(--disabled-bg-color);\n",
              "    fill: var(--disabled-fill-color);\n",
              "    box-shadow: none;\n",
              "  }\n",
              "\n",
              "  .colab-df-spinner {\n",
              "    border: 2px solid var(--fill-color);\n",
              "    border-color: transparent;\n",
              "    border-bottom-color: var(--fill-color);\n",
              "    animation:\n",
              "      spin 1s steps(1) infinite;\n",
              "  }\n",
              "\n",
              "  @keyframes spin {\n",
              "    0% {\n",
              "      border-color: transparent;\n",
              "      border-bottom-color: var(--fill-color);\n",
              "      border-left-color: var(--fill-color);\n",
              "    }\n",
              "    20% {\n",
              "      border-color: transparent;\n",
              "      border-left-color: var(--fill-color);\n",
              "      border-top-color: var(--fill-color);\n",
              "    }\n",
              "    30% {\n",
              "      border-color: transparent;\n",
              "      border-left-color: var(--fill-color);\n",
              "      border-top-color: var(--fill-color);\n",
              "      border-right-color: var(--fill-color);\n",
              "    }\n",
              "    40% {\n",
              "      border-color: transparent;\n",
              "      border-right-color: var(--fill-color);\n",
              "      border-top-color: var(--fill-color);\n",
              "    }\n",
              "    60% {\n",
              "      border-color: transparent;\n",
              "      border-right-color: var(--fill-color);\n",
              "    }\n",
              "    80% {\n",
              "      border-color: transparent;\n",
              "      border-right-color: var(--fill-color);\n",
              "      border-bottom-color: var(--fill-color);\n",
              "    }\n",
              "    90% {\n",
              "      border-color: transparent;\n",
              "      border-bottom-color: var(--fill-color);\n",
              "    }\n",
              "  }\n",
              "</style>\n",
              "\n",
              "  <script>\n",
              "    async function quickchart(key) {\n",
              "      const quickchartButtonEl =\n",
              "        document.querySelector('#' + key + ' button');\n",
              "      quickchartButtonEl.disabled = true;  // To prevent multiple clicks.\n",
              "      quickchartButtonEl.classList.add('colab-df-spinner');\n",
              "      try {\n",
              "        const charts = await google.colab.kernel.invokeFunction(\n",
              "            'suggestCharts', [key], {});\n",
              "      } catch (error) {\n",
              "        console.error('Error during call to suggestCharts:', error);\n",
              "      }\n",
              "      quickchartButtonEl.classList.remove('colab-df-spinner');\n",
              "      quickchartButtonEl.classList.add('colab-df-quickchart-complete');\n",
              "    }\n",
              "    (() => {\n",
              "      let quickchartButtonEl =\n",
              "        document.querySelector('#df-4e150cac-3495-418f-b92f-b7856197c7f2 button');\n",
              "      quickchartButtonEl.style.display =\n",
              "        google.colab.kernel.accessAllowed ? 'block' : 'none';\n",
              "    })();\n",
              "  </script>\n",
              "</div>\n",
              "\n",
              "    </div>\n",
              "  </div>\n"
            ],
            "application/vnd.google.colaboratory.intrinsic+json": {
              "type": "dataframe",
              "summary": "{\n  \"name\": \"dumbValues('Categories',datCateg)\",\n  \"rows\": 8,\n  \"fields\": [\n    {\n      \"column\": \"CategoryID\",\n      \"properties\": {\n        \"dtype\": \"number\",\n        \"std\": 2,\n        \"min\": 1,\n        \"max\": 8,\n        \"num_unique_values\": 8,\n        \"samples\": [\n          2,\n          6,\n          1\n        ],\n        \"semantic_type\": \"\",\n        \"description\": \"\"\n      }\n    },\n    {\n      \"column\": \"CategoryName\",\n      \"properties\": {\n        \"dtype\": \"string\",\n        \"num_unique_values\": 8,\n        \"samples\": [\n          \"Condiments\",\n          \"Meat/Poultry\",\n          \"Beverages\"\n        ],\n        \"semantic_type\": \"\",\n        \"description\": \"\"\n      }\n    },\n    {\n      \"column\": \"Description\",\n      \"properties\": {\n        \"dtype\": \"string\",\n        \"num_unique_values\": 8,\n        \"samples\": [\n          \"Sweet and savory sauces, relishes, spreads, and seasonings\",\n          \"Prepared meats\",\n          \"Soft drinks, coffees, teas, beers, and ales\"\n        ],\n        \"semantic_type\": \"\",\n        \"description\": \"\"\n      }\n    }\n  ]\n}"
            }
          },
          "metadata": {},
          "execution_count": 13
        }
      ]
    },
    {
      "cell_type": "code",
      "source": [
        "c.executemany(f\"INSERT INTO Customers VALUES ({qmark})\", dat_table)"
      ],
      "metadata": {
        "id": "pmQFklXGBUvr",
        "colab": {
          "base_uri": "https://localhost:8080/",
          "height": 141
        },
        "outputId": "01d05246-0587-44ce-f710-2f22ff83f7ba"
      },
      "execution_count": 14,
      "outputs": [
        {
          "output_type": "error",
          "ename": "NameError",
          "evalue": "name 'qmark' is not defined",
          "traceback": [
            "\u001b[0;31m---------------------------------------------------------------------------\u001b[0m",
            "\u001b[0;31mNameError\u001b[0m                                 Traceback (most recent call last)",
            "\u001b[0;32m<ipython-input-14-56cf5dda33c7>\u001b[0m in \u001b[0;36m<cell line: 1>\u001b[0;34m()\u001b[0m\n\u001b[0;32m----> 1\u001b[0;31m \u001b[0mc\u001b[0m\u001b[0;34m.\u001b[0m\u001b[0mexecutemany\u001b[0m\u001b[0;34m(\u001b[0m\u001b[0;34mf\"INSERT INTO Customers VALUES ({qmark})\"\u001b[0m\u001b[0;34m,\u001b[0m \u001b[0mdat_table\u001b[0m\u001b[0;34m)\u001b[0m\u001b[0;34m\u001b[0m\u001b[0;34m\u001b[0m\u001b[0m\n\u001b[0m",
            "\u001b[0;31mNameError\u001b[0m: name 'qmark' is not defined"
          ]
        }
      ]
    },
    {
      "cell_type": "markdown",
      "source": [
        "### dumbValues_qmark\n",
        "```\n",
        "# Written DJSc_procedure to dumb values (with qmark)\n",
        "def dumbValues_qmark(table_name,qmark, dat_table):\n",
        "  c.execute(\"DELETE FROM `\"+table_name+\"`\") # syntax for table_Name as parameter/argumenjt in function/procedure\n",
        "  #empty table if not the case\n",
        "  c.execute(\"DELETE FROM \"+table_name+\"\")\n",
        "  #insert values in table table_name\n",
        "  c.executemany(\"INSERT INTO \"+table_name+\" VALUES ({})\".format(qmark), dat_table)\n",
        "  conn.commit()\n",
        "  dfTab=pd.read_sql(\"SELECT * FROM \"+table_name+\"\",conn)\n",
        "  return dfTab\n",
        "  ```"
      ],
      "metadata": {
        "id": "igt0SD3eE3e9"
      }
    },
    {
      "cell_type": "code",
      "source": [
        "# Written DJSc_procedure to dumb values (with qmark)\n",
        "def dumbValues_qmark(table_name,qmark, dat_table):\n",
        "  #c.execute(\"DELETE FROM `\"+table_name+\"`\") # syntax for table_Name as parameter/argument in function/procedure\n",
        "  #empty table if not the case\n",
        "  c.execute(\"DELETE FROM \"+table_name+\"\")\n",
        "  #insert values in table table_name\n",
        "  c.executemany(\"INSERT INTO \"+table_name+\" VALUES ({})\".format(qmark), dat_table)\n",
        "  conn.commit()\n",
        "  dfTab=pd.read_sql(\"SELECT * FROM \"+table_name+\"\",conn)\n",
        "  return dfTab"
      ],
      "metadata": {
        "id": "G4ud984YAdTz"
      },
      "execution_count": null,
      "outputs": []
    },
    {
      "cell_type": "code",
      "source": [
        "qmark_dfCateg=\",\".join(\"?\"*len(dfCateg.columns))\n",
        "qmark_dfCateg"
      ],
      "metadata": {
        "id": "tMqWWkTRCmkQ"
      },
      "execution_count": null,
      "outputs": []
    },
    {
      "cell_type": "code",
      "source": [
        "dumbValues_qmark('Categories' ,qmark_dfCateg, datCateg)"
      ],
      "metadata": {
        "id": "zb73n2MVCBTc"
      },
      "execution_count": null,
      "outputs": []
    },
    {
      "cell_type": "markdown",
      "source": [
        "## Create ```Customers``` table  & Dumb values\n",
        "step_1) Create table & count columns\n",
        "```\n",
        "#c.execute(\"DROP TABLE 'Customers' \") #Uncommemt once table created\n",
        "c.execute(\"CREATE TABLE ' table_name' (...))\n",
        "```\n",
        ">TABLE `customers` (\n",
        "  `CustomerID` int(11) NOT NULL,\n",
        "  `CustomerName` varchar(255) DEFAULT NULL,\n",
        "  `ContactName` varchar(255) DEFAULT NULL,\n",
        "  `Address` varchar(255) DEFAULT NULL,\n",
        "  `City` varchar(255) DEFAULT NULL,\n",
        "  `PostalCode` varchar(255) DEFAULT NULL,\n",
        "  `Country` varchar(255) DEFAULT NULL)\n",
        "\n",
        "```\n",
        "colCount_dfCust=len(dfCust.columns)\n",
        "colCount_dfCust\n",
        "```\n",
        "\n",
        "step_2) Confirm table creation & retrieve qmark [i.e  amount of ```'?'``` at ```VALUES(?,?...,?)``` ]\n",
        "```\n",
        "c.execute(\"SELECT name from squilte_master\")\n",
        "c.fetchall()\n",
        "```\n",
        "```\n",
        "qmark=\",\".join('?'*colCount_dfCust) # placeholders SQL injection proof\n",
        "qmark\n",
        "```\n",
        "\n",
        "step_3) Values to dumb\n",
        "```\n",
        "datTab=[(...),...,(...)]\n",
        "```\n",
        "\n",
        "step_4) Use written DJSc_procedure/function ```dumbValues_qmark()``` to dumb values\n",
        "```\n",
        "# Written DJSc_procedure to dumb values (with qmark)\n",
        "def dumbValues_qmark(table_name,qmark, dat_table):\n",
        "  c.execute(\"DELETE FROM `\"+table_name+\"`\") # syntax for table_Name as parameter/argumenjt in function/procedure\n",
        "  #empty table if not the case\n",
        "  c.execute(\"DELETE FROM \"+table_name+\"\")\n",
        "  #insert values in table table_name\n",
        "  c.executemany(\"INSERT INTO \"+table_name+\" VALUES ({})\".format(qmark), dat_table)\n",
        "  conn.commit()\n",
        "  dfTab=pd.read_sql(\"SELECT * FROM \"+table_name+\"\",conn)\n",
        "  return dfTab\n",
        "  ```"
      ],
      "metadata": {
        "id": "OtuGqaFNa0-g"
      }
    },
    {
      "cell_type": "markdown",
      "source": [
        "### step_1) Create table & Count Column"
      ],
      "metadata": {
        "id": "L0vGTgUZvWz2"
      }
    },
    {
      "cell_type": "code",
      "source": [
        "c.execute(\"DROP TABLE 'Customers' \") #Uncommemt once table created\n",
        "c.execute(\"CREATE TABLE `Customers` (`CustomerID` int(11) NOT NULL,`CustomerName` varchar(255) DEFAULT NULL,`ContactName` varchar(255) DEFAULT NULL,`Address` varchar(255) DEFAULT NULL,`City` varchar(255) DEFAULT NULL,`PostalCode` varchar(255) DEFAULT NULL,`Country` varchar(255) DEFAULT NULL)\")"
      ],
      "metadata": {
        "id": "AEfLbel8hJMP"
      },
      "execution_count": null,
      "outputs": []
    },
    {
      "cell_type": "code",
      "source": [
        "dfCust=pd.read_sql('SELECT * FROM Customers',conn)\n",
        "dfCust"
      ],
      "metadata": {
        "id": "qXL-YFuTuovt"
      },
      "execution_count": null,
      "outputs": []
    },
    {
      "cell_type": "code",
      "source": [
        "dfCust.columns"
      ],
      "metadata": {
        "id": "KakpSrOqu1Qg"
      },
      "execution_count": null,
      "outputs": []
    },
    {
      "cell_type": "code",
      "source": [
        "colCount_dfCust=len(dfCust.columns)\n",
        "colCount_dfCust"
      ],
      "metadata": {
        "id": "rasYKWYmu8rp"
      },
      "execution_count": null,
      "outputs": []
    },
    {
      "cell_type": "markdown",
      "source": [
        "### step_2) Confirm table creation & retrieve qmark [i.e  amount of ```'?'``` at ```VALUES(?,?...,?)``` ]"
      ],
      "metadata": {
        "id": "T64xpVsuvp3f"
      }
    },
    {
      "cell_type": "code",
      "source": [
        "c.execute(\"SELECT name from sqlite_master\")\n",
        "#c.fetchone()\n",
        "#c.fetchmany()\n",
        "c.fetchall()"
      ],
      "metadata": {
        "id": "3UfZtCf-jNLw"
      },
      "execution_count": null,
      "outputs": []
    },
    {
      "cell_type": "code",
      "source": [
        "qmark=\",\".join('?'*colCount_dfCust) # placeholders SQL injection proof\n",
        "qmark"
      ],
      "metadata": {
        "id": "25ldLCQ3vL_D"
      },
      "execution_count": null,
      "outputs": []
    },
    {
      "cell_type": "code",
      "source": [
        "#Sample values to dumb\n",
        "samplCust=[(1, 'Alfreds Futterkiste', 'Maria Anders', 'Obere Str. 57', 'Berlin', '12209', 'Germany')]"
      ],
      "metadata": {
        "id": "9xXOHL3TyL1I"
      },
      "execution_count": null,
      "outputs": []
    },
    {
      "cell_type": "code",
      "source": [
        "print(\"INSERT INTO Customers VALUES({})\".format(qmark))"
      ],
      "metadata": {
        "id": "oXl6vbup3cgs"
      },
      "execution_count": null,
      "outputs": []
    },
    {
      "cell_type": "code",
      "source": [
        "c.executemany(\"INSERT INTO 'Customers' VALUES(?,?,?,?,?,?,?)\", samplCust)"
      ],
      "metadata": {
        "id": "QfJV5t7a4gx3"
      },
      "execution_count": null,
      "outputs": []
    },
    {
      "cell_type": "code",
      "source": [
        "c.executemany(\"INSERT INTO Customers VALUES({})\".format(qmark), samplCust)\n",
        "#alternatively below... BUT above is Adequate to qmark formatting\n",
        "#c.executemany(f\"INSERT INTO Customers VALUES({qmark})\", samplCust)\n"
      ],
      "metadata": {
        "id": "qncAA4dWy_-8"
      },
      "execution_count": null,
      "outputs": []
    },
    {
      "cell_type": "code",
      "source": [],
      "metadata": {
        "id": "ivjPx0j3-tp1"
      },
      "execution_count": null,
      "outputs": []
    },
    {
      "cell_type": "markdown",
      "source": [
        "### step_3) Values to dumb"
      ],
      "metadata": {
        "id": "b9QBTZ12xFNG"
      }
    },
    {
      "cell_type": "code",
      "source": [
        "#values to dumb\n",
        "datCust=[(1, 'Alfreds Futterkiste', 'Maria Anders', 'Obere Str. 57', 'Berlin', '12209', 'Germany'),\n",
        "(2, 'Ana Trujillo Emparedados y helados', 'Ana Trujillo', 'Avda. de la Constitución 2222', 'México D.F.', '05021', 'Mexico'),\n",
        "(3, 'Antonio Moreno Taquería', 'Antonio Moreno', 'Mataderos 2312', 'México D.F.', '05023', 'Mexico'),\n",
        "(4, 'Around the Horn', 'Thomas Hardy', '120 Hanover Sq.', 'London', 'WA1 1DP', 'UK'),\n",
        "(5, 'Berglunds snabbköp', 'Christina Berglund', 'Berguvsvägen 8', 'Luleå', 'S-958 22', 'Sweden'),\n",
        "(6, 'Blauer See Delikatessen', 'Hanna Moos', 'Forsterstr. 57', 'Mannheim', '68306', 'Germany'),\n",
        "(7, 'Blondel père et fils', 'Frédérique Citeaux', '24, place Kléber', 'Strasbourg', '67000', 'France'),\n",
        "(8, 'Bólido Comidas preparadas', 'Martín Sommer', 'C/ Araquil, 67', 'Madrid', '28023', 'Spain'),\n",
        "(9, 'Bon app\\'', 'Laurence Lebihans', '12, rue des Bouchers', 'Marseille', '13008', 'France'),\n",
        "(10, 'Bottom-Dollar Marketse', 'Elizabeth Lincoln', '23 Tsawassen Blvd.', 'Tsawassen', 'T2F 8M4', 'Canada'),\n",
        "(11, 'B\\'s Beverages', 'Victoria Ashworth', 'Fauntleroy Circus', 'London', 'EC2 5NT', 'UK'),\n",
        "(12, 'Cactus Comidas para llevar', 'Patricio Simpson', 'Cerrito 333', 'Buenos Aires', '1010', 'Argentina'),\n",
        "(13, 'Centro comercial Moctezuma', 'Francisco Chang', 'Sierras de Granada 9993', 'México D.F.', '05022', 'Mexico'),\n",
        "(14, 'Chop-suey Chinese', 'Yang Wang', 'Hauptstr. 29', 'Bern', '3012', 'Switzerland'),\n",
        "(15, 'Comércio Mineiro', 'Pedro Afonso', 'Av. dos Lusíadas, 23', 'São Paulo', '05432-043', 'Brazil'),\n",
        "(16, 'Consolidated Holdings', 'Elizabeth Brown', 'Berkeley Gardens 12 Brewery', 'London', 'WX1 6LT', 'UK'),\n",
        "(17, 'Drachenblut Delikatessend', 'Sven Ottlieb', 'Walserweg 21', 'Aachen', '52066', 'Germany'),\n",
        "(18, 'Du monde entier', 'Janine Labrune', '67, rue des Cinquante Otages', 'Nantes', '44000', 'France'),\n",
        "(19, 'Eastern Connection', 'Ann Devon', '35 King George', 'London', 'WX3 6FW', 'UK'),\n",
        "(20, 'Ernst Handel', 'Roland Mendel', 'Kirchgasse 6', 'Graz', '8010', 'Austria'),\n",
        "(21, 'Familia Arquibaldo', 'Aria Cruz', 'Rua Orós, 92', 'São Paulo', '05442-030', 'Brazil'),\n",
        "(22, 'FISSA Fabrica Inter. Salchichas S.A.', 'Diego Roel', 'C/ Moralzarzal, 86', 'Madrid', '28034', 'Spain'),\n",
        "(23, 'Folies gourmandes', 'Martine Rancé', '184, chaussée de Tournai', 'Lille', '59000', 'France'),\n",
        "(24, 'Folk och fä HB', 'Maria Larsson', 'Åkergatan 24', 'Bräcke', 'S-844 67', 'Sweden'),\n",
        "(25, 'Frankenversand', 'Peter Franken', 'Berliner Platz 43', 'München', '80805', 'Germany'),\n",
        "(26, 'France restauration', 'Carine Schmitt', '54, rue Royale', 'Nantes', '44000', 'France'),\n",
        "(27, 'Franchi S.p.A.', 'Paolo Accorti', 'Via Monte Bianco 34', 'Torino', '10100', 'Italy'),\n",
        "(28, 'Furia Bacalhau e Frutos do Mar', 'Lino Rodriguez', 'Jardim das rosas n. 32', 'Lisboa', '1675', 'Portugal'),\n",
        "(29, 'Galería del gastrónomo', 'Eduardo Saavedra', 'Rambla de Cataluña, 23', 'Barcelona', '08022', 'Spain'),\n",
        "(30, 'Godos Cocina Típica', 'José Pedro Freyre', 'C/ Romero, 33', 'Sevilla', '41101', 'Spain'),\n",
        "(31, 'Gourmet Lanchonetes', 'André Fonseca', 'Av. Brasil, 442', 'Campinas', '04876-786', 'Brazil'),\n",
        "(32, 'Great Lakes Food Market', 'Howard Snyder', '2732 Baker Blvd.', 'Eugene', '97403', 'USA'),\n",
        "(33, 'GROSELLA-Restaurante', 'Manuel Pereira', '5ª Ave. Los Palos Grandes', 'Caracas', '1081', 'Venezuela'),\n",
        "(34, 'Hanari Carnes', 'Mario Pontes', 'Rua do Paço, 67', 'Rio de Janeiro', '05454-876', 'Brazil'),\n",
        "(35, 'HILARIÓN-Abastos', 'Carlos Hernández', 'Carrera 22 con Ave. Carlos Soublette #8-35', 'San Cristóbal', '5022', 'Venezuela'),\n",
        "(36, 'Hungry Coyote Import Store', 'Yoshi Latimer', 'City Center Plaza 516 Main St.', 'Elgin', '97827', 'USA'),\n",
        "(37, 'Hungry Owl All-Night Grocers', 'Patricia McKenna', '8 Johnstown Road', 'Cork', '', 'Ireland'),\n",
        "(38, 'Island Trading', 'Helen Bennett', 'Garden House Crowther Way', 'Cowes', 'PO31 7PJ', 'UK'),\n",
        "(39, 'Königlich Essen', 'Philip Cramer', 'Maubelstr. 90', 'Brandenburg', '14776', 'Germany'),\n",
        "(40, 'La corne d\\'abondance', 'Daniel Tonini', '67, avenue de l\\'Europe', 'Versailles', '78000', 'France'),\n",
        "(41, 'La maison d\\'Asie', 'Annette Roulet', '1 rue Alsace-Lorraine', 'Toulouse', '31000', 'France'),\n",
        "(42, 'Laughing Bacchus Wine Cellars', 'Yoshi Tannamuri', '1900 Oak St.', 'Vancouver', 'V3F 2K1', 'Canada'),\n",
        "(43, 'Lazy K Kountry Store', 'John Steel', '12 Orchestra Terrace', 'Walla Walla', '99362', 'USA'),\n",
        "(44, 'Lehmanns Marktstand', 'Renate Messner', 'Magazinweg 7', 'Frankfurt a.M.', '60528', 'Germany'),\n",
        "(45, 'Let\\'s Stop N Shop', 'Jaime Yorres', '87 Polk St. Suite 5', 'San Francisco', '94117', 'USA'),\n",
        "(46, 'LILA-Supermercado', 'Carlos González', 'Carrera 52 con Ave. Bolívar #65-98 Llano Largo', 'Barquisimeto', '3508', 'Venezuela'),\n",
        "(47, 'LINO-Delicateses', 'Felipe Izquierdo', 'Ave. 5 de Mayo Porlamar', 'I. de Margarita', '4980', 'Venezuela'),\n",
        "(48, 'Lonesome Pine Restaurant', 'Fran Wilson', '89 Chiaroscuro Rd.', 'Portland', '97219', 'USA'),\n",
        "(49, 'Magazzini Alimentari Riuniti', 'Giovanni Rovelli', 'Via Ludovico il Moro 22', 'Bergamo', '24100', 'Italy'),\n",
        "(50, 'Maison Dewey', 'Catherine Dewey', 'Rue Joseph-Bens 532', 'Bruxelles', 'B-1180', 'Belgium'),\n",
        "(51, 'Mère Paillarde', 'Jean Fresnière', '43 rue St. Laurent', 'Montréal', 'H1J 1C3', 'Canada'),\n",
        "(52, 'Morgenstern Gesundkost', 'Alexander Feuer', 'Heerstr. 22', 'Leipzig', '04179', 'Germany'),\n",
        "(53, 'North/South', 'Simon Crowther', 'South House 300 Queensbridge', 'London', 'SW7 1RZ', 'UK'),\n",
        "(54, 'Océano Atlántico Ltda.', 'Yvonne Moncada', 'Ing. Gustavo Moncada 8585 Piso 20-A', 'Buenos Aires', '1010', 'Argentina'),\n",
        "(55, 'Old World Delicatessen', 'Rene Phillips', '2743 Bering St.', 'Anchorage', '99508', 'USA'),\n",
        "(56, 'Ottilies Käseladen', 'Henriette Pfalzheim', 'Mehrheimerstr. 369', 'Köln', '50739', 'Germany'),\n",
        "(57, 'Paris spécialités', 'Marie Bertrand', '265, boulevard Charonne', 'Paris', '75012', 'France'),\n",
        "(58, 'Pericles Comidas clásicas', 'Guillermo Fernández', 'Calle Dr. Jorge Cash 321', 'México D.F.', '05033', 'Mexico'),\n",
        "(59, 'Piccolo und mehr', 'Georg Pipps', 'Geislweg 14', 'Salzburg', '5020', 'Austria'),\n",
        "(60, 'Princesa Isabel Vinhoss', 'Isabel de Castro', 'Estrada da saúde n. 58', 'Lisboa', '1756', 'Portugal'),\n",
        "(61, 'Que Delícia', 'Bernardo Batista', 'Rua da Panificadora, 12', 'Rio de Janeiro', '02389-673', 'Brazil'),\n",
        "(62, 'Queen Cozinha', 'Lúcia Carvalho', 'Alameda dos Canàrios, 891', 'São Paulo', '05487-020', 'Brazil'),\n",
        "(63, 'QUICK-Stop', 'Horst Kloss', 'Taucherstraße 10', 'Cunewalde', '01307', 'Germany'),\n",
        "(64, 'Rancho grande', 'Sergio Gutiérrez', 'Av. del Libertador 900', 'Buenos Aires', '1010', 'Argentina'),\n",
        "(65, 'Rattlesnake Canyon Grocery', 'Paula Wilson', '2817 Milton Dr.', 'Albuquerque', '87110', 'USA'),\n",
        "(66, 'Reggiani Caseifici', 'Maurizio Moroni', 'Strada Provinciale 124', 'Reggio Emilia', '42100', 'Italy'),\n",
        "(67, 'Ricardo Adocicados', 'Janete Limeira', 'Av. Copacabana, 267', 'Rio de Janeiro', '02389-890', 'Brazil'),\n",
        "(68, 'Richter Supermarkt', 'Michael Holz', 'Grenzacherweg 237', 'Genève', '1203', 'Switzerland'),\n",
        "(69, 'Romero y tomillo', 'Alejandra Camino', 'Gran Vía, 1', 'Madrid', '28001', 'Spain'),\n",
        "(70, 'Santé Gourmet', 'Jonas Bergulfsen', 'Erling Skakkes gate 78', 'Stavern', '4110', 'Norway'),\n",
        "(71, 'Save-a-lot Markets', 'Jose Pavarotti', '187 Suffolk Ln.', 'Boise', '83720', 'USA'),\n",
        "(72, 'Seven Seas Imports', 'Hari Kumar', '90 Wadhurst Rd.', 'London', 'OX15 4NB', 'UK'),\n",
        "(73, 'Simons bistro', 'Jytte Petersen', 'Vinbæltet 34', 'København', '1734', 'Denmark'),\n",
        "(74, 'Spécialités du monde', 'Dominique Perrier', '25, rue Lauriston', 'Paris', '75016', 'France'),\n",
        "(75, 'Split Rail Beer & Ale', 'Art Braunschweiger', 'P.O. Box 555', 'Lander', '82520', 'USA'),\n",
        "(76, 'Suprêmes délices', 'Pascale Cartrain', 'Boulevard Tirou, 255', 'Charleroi', 'B-6000', 'Belgium'),\n",
        "(77, 'The Big Cheese', 'Liz Nixon', '89 Jefferson Way Suite 2', 'Portland', '97201', 'USA'),\n",
        "(78, 'The Cracker Box', 'Liu Wong', '55 Grizzly Peak Rd.', 'Butte', '59801', 'USA'),\n",
        "(79, 'Toms Spezialitäten', 'Karin Josephs', 'Luisenstr. 48', 'Münster', '44087', 'Germany'),\n",
        "(80, 'Tortuga Restaurante', 'Miguel Angel Paolino', 'Avda. Azteca 123', 'México D.F.', '05033', 'Mexico'),\n",
        "(81, 'Tradição Hipermercados', 'Anabela Domingues', 'Av. Inês de Castro, 414', 'São Paulo', '05634-030', 'Brazil'),\n",
        "(82, 'Trail\\'s Head Gourmet Provisioners', 'Helvetius Nagy', '722 DaVinci Blvd.', 'Kirkland', '98034', 'USA'),\n",
        "(83, 'Vaffeljernet', 'Palle Ibsen', 'Smagsløget 45', 'Århus', '8200', 'Denmark'),\n",
        "(84, 'Victuailles en stock', 'Mary Saveley', '2, rue du Commerce', 'Lyon', '69004', 'France'),\n",
        "(85, 'Vins et alcools Chevalier', 'Paul Henriot', '59 rue de l\\'Abbaye', 'Reims', '51100', 'France'),\n",
        "(86, 'Die Wandernde Kuh', 'Rita Müller', 'Adenauerallee 900', 'Stuttgart', '70563', 'Germany'),\n",
        "(87, 'Wartian Herkku', 'Pirkko Koskitalo', 'Torikatu 38', 'Oulu', '90110', 'Finland'),\n",
        "(88, 'Wellington Importadora', 'Paula Parente', 'Rua do Mercado, 12', 'Resende', '08737-363', 'Brazil'),\n",
        "(89, 'White Clover Markets', 'Karl Jablonski', '305 - 14th Ave. S. Suite 3B', 'Seattle', '98128', 'USA'),\n",
        "(90, 'Wilman Kala', 'Matti Karttunen', 'Keskuskatu 45', 'Helsinki', '21240', 'Finland'),\n",
        "(91, 'Wolski', 'Zbyszek', 'ul. Filtrowa 68', 'Walla', '01-012', 'Poland')]\n"
      ],
      "metadata": {
        "id": "2iyCb_sTZM8J"
      },
      "execution_count": null,
      "outputs": []
    },
    {
      "cell_type": "code",
      "source": [
        "qmark_dfCust=\",\".join('?'*colCount_dfCust) # placeholders SQL injection proof\n",
        "c.executemany(\"INSERT INTO Customers VALUES ({})\".format(qmark_dfCust),datCust)\n",
        "#conn.commit()"
      ],
      "metadata": {
        "id": "P8zEbCHpsZeX"
      },
      "execution_count": null,
      "outputs": []
    },
    {
      "cell_type": "code",
      "source": [
        "#ISSUE on Indefinte amount of placeholder (?,?,?) !!!...to resolve...!!! RESOVED ...see <qmark> or <dumbValues_qmark>\n",
        "#empty table if not the case\n",
        "c.execute(\"DELETE FROM `Customers`\")\n",
        "#insert values in table Categories\n",
        "c.executemany(\"INSERT INTO `Customers` VALUES ({})\".format(qmark_dfCust),datCust)\n",
        "#c.executemany(\"INSERT INTO `Customers` VALUES (?,?,?)\",datCust)\n",
        "#conn.commit()"
      ],
      "metadata": {
        "id": "nZCk3tSQ0iTq"
      },
      "execution_count": null,
      "outputs": []
    },
    {
      "cell_type": "markdown",
      "source": [
        "### step_4) Use written DJSc_procedure/function ```dumbValues()``` to dumb ```Customers``` values"
      ],
      "metadata": {
        "id": "-ThwjdvnxS2w"
      }
    },
    {
      "cell_type": "code",
      "source": [
        "dumbValues_qmark('Customers', qmark_dfCust, datCust)"
      ],
      "metadata": {
        "id": "gwQa0HXExRXj"
      },
      "execution_count": null,
      "outputs": []
    },
    {
      "cell_type": "markdown",
      "source": [
        "## Create ```Employees ``` table  & Dumb values"
      ],
      "metadata": {
        "id": "Lxx77YE9xMu5"
      }
    },
    {
      "cell_type": "markdown",
      "source": [
        "### step_1) Create table & Count Columns\n",
        "```\n",
        "#c.execute(\"DROP TABLE 'Employees' \") #Uncommemt once table created\n",
        "c.execute(\"CREATE TABLE ' table_name' (...))\n",
        "```\n",
        ">TABLE `Employees` (\n",
        "  `EmployeeID` int(11) NOT NULL,\n",
        "  `LastName` varchar(255) DEFAULT NULL,\n",
        "  `FirstName` varchar(255) DEFAULT NULL,\n",
        "  `BirthDate` date DEFAULT NULL,\n",
        "  `Photo` varchar(255) DEFAULT NULL,\n",
        "  `Notes` text\n",
        ")\n",
        "\n",
        "```\n",
        "dfEmp=pd.read_sql('SELECT * FROM Employees',conn)\n",
        "dfEmp\n",
        "```\n",
        "\n",
        "```\n",
        "colCount_dfEmp=len(dfEmp.columns)\n",
        "colCount_dfEmp\n",
        "```"
      ],
      "metadata": {
        "id": "ywCdUPXtOb8f"
      }
    },
    {
      "cell_type": "code",
      "source": [
        "# c.execute(\"DROP TABLE 'Employees' \") #Uncommemt once table created\n",
        "c.execute(\"CREATE TABLE 'Employees' ( EmployeeID int(11) NOT NULL, LastName varchar(255) DEFAULT NULL, FirstName varchar(255) DEFAULT NULL, BirthDate date DEFAULT NULL, Photo varchar(255) DEFAULT NULL, Notes text )\")"
      ],
      "metadata": {
        "id": "H-5Vt2rjOnNs"
      },
      "execution_count": null,
      "outputs": []
    },
    {
      "cell_type": "code",
      "source": [
        "dfEmp=pd.read_sql('SELECT * FROM Employees',conn)\n",
        "dfEmp"
      ],
      "metadata": {
        "id": "Bgoukj5sPR8x"
      },
      "execution_count": null,
      "outputs": []
    },
    {
      "cell_type": "code",
      "source": [
        "colCount_dfEmp=len(dfEmp.columns)\n",
        "colCount_dfEmp"
      ],
      "metadata": {
        "id": "nbOphCtSPkGn"
      },
      "execution_count": null,
      "outputs": []
    },
    {
      "cell_type": "markdown",
      "source": [
        "###  step_2) Confirm table creation & retrieve qmark [i.e  amount of ```'?'``` at ```VALUES(?,?...,?)``` ]\n",
        "```\n",
        "c.execute(\"SELECT name from sqlite_master\")\n",
        "c.fetchall()\n",
        "```\n",
        "  qmark_dfEmp\n",
        "```\n",
        "qmark_Emp=\",\".join('?'*colCount_dfEmp) # placeholders SQL injection proof\n",
        "qmark_Emp\n",
        "```"
      ],
      "metadata": {
        "id": "fzSCGLaRPq3H"
      }
    },
    {
      "cell_type": "code",
      "source": [
        "c.execute(\"SELECT name from sqlite_master\")\n",
        "c.fetchall()"
      ],
      "metadata": {
        "id": "_rkZ8fbGP3Aw"
      },
      "execution_count": null,
      "outputs": []
    },
    {
      "cell_type": "code",
      "source": [
        "qmark_Emp=\",\".join('?'*colCount_dfEmp) # placeholders SQL injection proof\n",
        "qmark_Emp"
      ],
      "metadata": {
        "id": "xw3d396LQJF6"
      },
      "execution_count": null,
      "outputs": []
    },
    {
      "cell_type": "markdown",
      "source": [
        "### step_3) Values to dumb\n",
        "```\n",
        "datEmp=[(`EmployeeID`, `LastName`, `FirstName`, `BirthDate`, `Photo`, `Notes`) VALUES\n",
        "(1, 'Davolio', 'Nancy', '1968-12-08', 'EmpID1.pic', 'Education includes a BA in psychology from Colorado State University. She also completed (The Art of the Cold Call). Nancy is a member of \\'Toastmasters International\\'.'),\n",
        "(2, 'Fuller', 'Andrew', '1952-02-19', 'EmpID2.pic', 'Andrew received his BTS commercial and a Ph.D. in international marketing from the University of Dallas. He is fluent in French and Italian and reads German. He joined the company as a sales representative, was promoted to sales manager and was then named vice president of sales. Andrew is a member of the Sales Management Roundtable, the Seattle Chamber of Commerce, and the Pacific Rim Importers Association.'),\n",
        "(3, 'Leverling', 'Janet', '1963-08-30', 'EmpID3.pic', 'Janet has a BS degree in chemistry from Boston College). She has also completed a certificate program in food retailing management. Janet was hired as a sales associate and was promoted to sales representative.'),\n",
        "(4, 'Peacock', 'Margaret', '1958-09-19', 'EmpID4.pic', 'Margaret holds a BA in English literature from Concordia College and an MA from the American Institute of Culinary Arts. She was temporarily assigned to the London office before returning to her permanent post in Seattle.'),\n",
        "(5, 'Buchanan', 'Steven', '1955-03-04', 'EmpID5.pic', 'Steven Buchanan graduated from St. Andrews University, Scotland, with a BSC degree. Upon joining the company as a sales representative, he spent 6 months in an orientation program at the Seattle office and then returned to his permanent post in London, where he was promoted to sales manager. Mr. Buchanan has completed the courses \\'Successful Telemarketing\\' and \\'International Sales Management\\'. He is fluent in French.'),\n",
        "(6, 'Suyama', 'Michael', '1963-07-02', 'EmpID6.pic', 'Michael is a graduate of Sussex University (MA, economics) and the University of California at Los Angeles (MBA, marketing). He has also taken the courses \\'Multi-Cultural Selling\\' and \\'Time Management for the Sales Professional\\'. He is fluent in Japanese and can read and write French, Portuguese, and Spanish.'),\n",
        "(7, 'King', 'Robert', '1960-05-29', 'EmpID7.pic', 'Robert King served in the Peace Corps and traveled extensively before completing his degree in English at the University of Michigan and then joining the company. After completing a course entitled \\'Selling in Europe\\', he was transferred to the London office.'),\n",
        "(8, 'Callahan', 'Laura', '1958-01-09', 'EmpID8.pic', 'Laura received a BA in psychology from the University of Washington. She has also completed a course in business French. She reads and writes French.'),\n",
        "(9, 'Dodsworth', 'Anne', '1969-07-02', 'EmpID9.pic', 'Anne has a BA degree in English from St. Lawrence College. She is fluent in French and German.'),\n",
        "(10, 'West', 'Adam', '1928-09-19', 'EmpID10.pic', 'An old chum.')]\n",
        "```"
      ],
      "metadata": {
        "id": "JLoUJEpgQqT9"
      }
    },
    {
      "cell_type": "code",
      "source": [
        "# step_3) Values to dumb\n",
        "datEmp=[(1, 'Davolio', 'Nancy', '1968-12-08', 'EmpID1.pic', 'Education includes a BA in psychology from Colorado State University. She also completed (The Art of the Cold Call). Nancy is a member of \\'Toastmasters International\\'.'),\n",
        "(2, 'Fuller', 'Andrew', '1952-02-19', 'EmpID2.pic', 'Andrew received his BTS commercial and a Ph.D. in international marketing from the University of Dallas. He is fluent in French and Italian and reads German. He joined the company as a sales representative, was promoted to sales manager and was then named vice president of sales. Andrew is a member of the Sales Management Roundtable, the Seattle Chamber of Commerce, and the Pacific Rim Importers Association.'),\n",
        "(3, 'Leverling', 'Janet', '1963-08-30', 'EmpID3.pic', 'Janet has a BS degree in chemistry from Boston College). She has also completed a certificate program in food retailing management. Janet was hired as a sales associate and was promoted to sales representative.'),\n",
        "(4, 'Peacock', 'Margaret', '1958-09-19', 'EmpID4.pic', 'Margaret holds a BA in English literature from Concordia College and an MA from the American Institute of Culinary Arts. She was temporarily assigned to the London office before returning to her permanent post in Seattle.'),\n",
        "(5, 'Buchanan', 'Steven', '1955-03-04', 'EmpID5.pic', 'Steven Buchanan graduated from St. Andrews University, Scotland, with a BSC degree. Upon joining the company as a sales representative, he spent 6 months in an orientation program at the Seattle office and then returned to his permanent post in London, where he was promoted to sales manager. Mr. Buchanan has completed the courses \\'Successful Telemarketing\\' and \\'International Sales Management\\'. He is fluent in French.'),\n",
        "(6, 'Suyama', 'Michael', '1963-07-02', 'EmpID6.pic', 'Michael is a graduate of Sussex University (MA, economics) and the University of California at Los Angeles (MBA, marketing). He has also taken the courses \\'Multi-Cultural Selling\\' and \\'Time Management for the Sales Professional\\'. He is fluent in Japanese and can read and write French, Portuguese, and Spanish.'),\n",
        "(7, 'King', 'Robert', '1960-05-29', 'EmpID7.pic', 'Robert King served in the Peace Corps and traveled extensively before completing his degree in English at the University of Michigan and then joining the company. After completing a course entitled \\'Selling in Europe\\', he was transferred to the London office.'),\n",
        "(8, 'Callahan', 'Laura', '1958-01-09', 'EmpID8.pic', 'Laura received a BA in psychology from the University of Washington. She has also completed a course in business French. She reads and writes French.'),\n",
        "(9, 'Dodsworth', 'Anne', '1969-07-02', 'EmpID9.pic', 'Anne has a BA degree in English from St. Lawrence College. She is fluent in French and German.'),\n",
        "(10, 'West', 'Adam', '1928-09-19', 'EmpID10.pic', 'An old chum.')]"
      ],
      "metadata": {
        "id": "yewAt7FbQ2ww"
      },
      "execution_count": null,
      "outputs": []
    },
    {
      "cell_type": "markdown",
      "source": [
        "\n",
        "### step_4) Use written DJSc_procedure/function ```dumbValues_qmark()``` to dumb values\n",
        "```\n",
        "# Written DJSc_procedure to dumb values (with qmark)\n",
        "def dumbValues_qmark(table_name,qmark, dat_table):\n",
        "  c.execute(\"DELETE FROM `\"+table_name+\"`\") # syntax for table_Name as parameter/argumenjt in function/procedure\n",
        "  #empty table if not the case\n",
        "  c.execute(\"DELETE FROM \"+table_name+\"\")\n",
        "  #insert values in table table_name\n",
        "  c.executemany(\"INSERT INTO \"+table_name+\" VALUES ({})\".format(qmark), dat_table)\n",
        "  conn.commit()\n",
        "  dfTab=pd.read_sql(\"SELECT * FROM \"+table_name+\"\",conn)\n",
        "  return dfTab\n",
        "  ```"
      ],
      "metadata": {
        "id": "kMXckQmxyVi4"
      }
    },
    {
      "cell_type": "code",
      "source": [
        "dumbValues_qmark('Employees', qmark_Emp, datEmp)"
      ],
      "metadata": {
        "id": "uoQ0jUoJRYvG"
      },
      "execution_count": null,
      "outputs": []
    },
    {
      "cell_type": "markdown",
      "source": [],
      "metadata": {
        "id": "uZUdcWVRx5qE"
      }
    },
    {
      "cell_type": "markdown",
      "source": [
        "## Create ```!!!! ``` table  & Dumb values\n",
        "step_1) Create table\n",
        "```\n",
        "#c.execute(\"DROP TABLE 'Employees' \") #Uncommemt once table created\n",
        "c.execute(\"CREATE TABLE ' table_name' (...))\n",
        "```\n",
        ">TABLE `Employees` (\n",
        "  `EmployeeID` int(11) NOT NULL,\n",
        "  `LastName` varchar(255) DEFAULT NULL,\n",
        "  `FirstName` varchar(255) DEFAULT NULL,\n",
        "  `BirthDate` date DEFAULT NULL,\n",
        "  `Photo` varchar(255) DEFAULT NULL,\n",
        "  `Notes` text\n",
        ")\n",
        "\n",
        "\n",
        "step_2) Confirm table creation\n",
        "```\n",
        "c.execute(\"SELECT name from squilte_master\")\n",
        "c.fetchall()\n",
        "```\n",
        "\n",
        "step_3) Values to dumb\n",
        "```\n",
        "datTab=[(...),...,(...)]\n",
        "```\n",
        "\n",
        "step_4) Use written DJSc_procedure/function ```dumbValues()``` to dumb ```table_name``` values\n",
        "```\n",
        "def dumbValues(table_name, dat_table):\n",
        "  c.execute(\"DELETE FROM `\"+table_name+\"`\") # syntax for table_Name as parameter/argumenjt in function/procedure\n",
        "  #empty table if not the case\n",
        "  c.execute(\"DELETE FROM \"+table_name+\"\")\n",
        "  #insert values in table table_name\n",
        "  c.executemany(\"INSERT INTO \"+table_name+\" VALUES (?,?,?)\", dat_table)\n",
        "  conn.commit()\n",
        "  dfTab=pd.read_sql(\"SELECT * FROM \"+table_name+\"\",conn)\n",
        "  return dfTab\n",
        "  ```"
      ],
      "metadata": {
        "id": "58zZjYDBIeSN"
      }
    },
    {
      "cell_type": "markdown",
      "source": [
        "## Create ``` !!!!!!``` table  & Dumb values\n",
        "step_1) Create table\n",
        "```\n",
        "#c.execute(\"DROP TABLE 'Employees' \") #Uncommemt once table created\n",
        "c.execute(\"CREATE TABLE ' table_name' (...))\n",
        "```\n",
        ">TABLE `Employees` (\n",
        "  `EmployeeID` int(11) NOT NULL,\n",
        "  `LastName` varchar(255) DEFAULT NULL,\n",
        "  `FirstName` varchar(255) DEFAULT NULL,\n",
        "  `BirthDate` date DEFAULT NULL,\n",
        "  `Photo` varchar(255) DEFAULT NULL,\n",
        "  `Notes` text\n",
        ")\n",
        "\n",
        "```\n",
        "df!!!=pd.read_sql('SELECT * FROM !!!!',conn)\n",
        "df!!!\n",
        "```\n",
        "\n",
        "```\n",
        "colCount_df!!!=len(df!!!.columns)\n",
        "colCount_dfEmp\n",
        "```\n",
        "\n",
        "\n",
        "step_2) Confirm table creation & retrieve qmark [i.e  amount of ```'?'``` at ```VALUES(?,?...,?)``` ]\n",
        "```\n",
        "c.execute(\"SELECT name from squilte_master\")\n",
        "c.fetchall()\n",
        "```\n",
        "  qmark_df!!!\n",
        "```\n",
        "qmark_!!!=\",\".join('?'*colCount_df!!!) # placeholders SQL injection proof\n",
        "qmark_!!!\n",
        "```\n",
        "\n",
        "step_3) Values to dumb\n",
        "```\n",
        "dat!!!=[(...),...,(...)]\n",
        "```\n",
        "\n",
        "step_4) Use written DJSc_procedure/function ```dumbValues_qmark()``` to dumb values\n",
        "```\n",
        "# Written DJSc_procedure to dumb values (with qmark)\n",
        "def dumbValues_qmark(table_name,qmark, dat_table):\n",
        "  c.execute(\"DELETE FROM `\"+table_name+\"`\") # syntax for table_Name as parameter/argumenjt in function/procedure\n",
        "  #empty table if not the case\n",
        "  c.execute(\"DELETE FROM \"+table_name+\"\")\n",
        "  #insert values in table table_name\n",
        "  c.executemany(\"INSERT INTO \"+table_name+\" VALUES ({})\".format(qmark), dat_table)\n",
        "  conn.commit()\n",
        "  dfTab=pd.read_sql(\"SELECT * FROM \"+table_name+\"\",conn)\n",
        "  return dfTab\n",
        "  ```"
      ],
      "metadata": {
        "id": "n0haq5mLIus0"
      }
    },
    {
      "cell_type": "markdown",
      "source": [
        "## Create ```!!!!! ``` table  & Dumb values\n",
        "step_1) Create table & Count Columns\n",
        "```\n",
        "#c.execute(\"DROP TABLE '!!!' \") #Uncommemt once table created\n",
        "c.execute(\"CREATE TABLE ' table_name' (...))\n",
        "```\n",
        ">TABLE `Employees` (\n",
        "  `EmployeeID` int(11) NOT NULL,\n",
        "  `LastName` varchar(255) DEFAULT NULL,\n",
        "  `FirstName` varchar(255) DEFAULT NULL,\n",
        "  `BirthDate` date DEFAULT NULL,\n",
        "  `Photo` varchar(255) DEFAULT NULL,\n",
        "  `Notes` text\n",
        ")\n",
        "\n",
        "\n",
        "```\n",
        "df!!!=pd.read_sql('SELECT * FROM !!!!',conn)\n",
        "df!!!\n",
        "```\n",
        "\n",
        "```\n",
        "colCount_df!!!=len(df!!!.columns)\n",
        "colCount_dfEmp\n",
        "```\n",
        "\n",
        "\n",
        "step_2) Confirm table creation & retrieve qmark [i.e  amount of ```'?'``` at ```VALUES(?,?...,?)``` ]\n",
        "```\n",
        "c.execute(\"SELECT name from squilte_master\")\n",
        "c.fetchall()\n",
        "```\n",
        "  qmark_df!!!\n",
        "```\n",
        "qmark_!!!=\",\".join('?'*colCount_df!!!) # placeholders SQL injection proof\n",
        "qmark_!!!\n",
        "```\n",
        "\n",
        "step_3) Values to dumb\n",
        "```\n",
        "dat!!!=[(...),...,(...)]\n",
        "```\n",
        "\n",
        "step_4) Use written DJSc_procedure/function ```dumbValues_qmark()``` to dumb values\n",
        "```\n",
        "# Written DJSc_procedure to dumb values (with qmark)\n",
        "def dumbValues_qmark(table_name,qmark, dat_table):\n",
        "  c.execute(\"DELETE FROM `\"+table_name+\"`\") # syntax for table_Name as parameter/argumenjt in function/procedure\n",
        "  #empty table if not the case\n",
        "  c.execute(\"DELETE FROM \"+table_name+\"\")\n",
        "  #insert values in table table_name\n",
        "  c.executemany(\"INSERT INTO \"+table_name+\" VALUES ({})\".format(qmark), dat_table)\n",
        "  conn.commit()\n",
        "  dfTab=pd.read_sql(\"SELECT * FROM \"+table_name+\"\",conn)\n",
        "  return dfTab\n",
        "  ```"
      ],
      "metadata": {
        "id": "MTrlry1rIgXs"
      }
    },
    {
      "cell_type": "markdown",
      "source": [
        "# Variable number of placeholders (?) qmark style\n",
        "https://stackoverflow.com/questions/32101869/safe-insert-with-a-variable-number-of-placeholders"
      ],
      "metadata": {
        "id": "-GTWQvTWgn5K"
      }
    },
    {
      "cell_type": "markdown",
      "source": [
        "#Pandas.read_sql()\n",
        "https://pandas.pydata.org/docs/reference/api/pandas.read_sql.html\n",
        "\n",
        "Read data from SQL via either a SQL query or a SQL tablename. When using a SQLite database only SQL queries are accepted, providing only the SQL tablename will result in an error.\n",
        "```\n",
        "from sqlite3 import connect\n",
        "conn = connect(':memory:')\n",
        "df = pd.DataFrame(data=[[0, '10/11/12'], [1, '12/11/10']],\n",
        "      columns=['int_column', 'date_column'])\n",
        "      df.to_sql(name='test_data', con=conn)       \n",
        "      pd.read_sql('SELECT int_column, date_column FROM test_data', conn)\n",
        " ```\n",
        "```\n",
        "                     int_column date_column\n",
        "                     0           0    10/11/12\n",
        "                     1           1    12/11/10\n",
        "                     pd.read_sql('test_data', 'postgres:///db_name')\n",
        "```\n",
        "Apply date parsing to columns through the parse_dates argument The parse_dates argument calls pd.to_datetime on the provided columns. Custom argument values for applying pd.to_datetime on a column are specified via a dictionary format:\n",
        "\n",
        "                     pd.read_sql('SELECT int_column, date_column FROM test_data',\n",
        "                                 conn,\n",
        "                                             parse_dates={\"date_column\": {\"format\": \"%d/%m/%y\"}})\n",
        "                                                int_column date_column\n",
        "                                                0           0  2012-11-10\n",
        "                                                1           1  2010-11-12\n",
        "                                                Added in version 2.2.0: pandas now supports reading via ADBC drivers\n",
        "\n",
        "      from adbc_driver_postgresql import dbapi  \n",
        "           with dbapi.connect('postgres:///db_name') as conn:  \n",
        "                pd.read_sql('SELECT int_column FROM test_data', conn)\n",
        "```\n",
        "                                                       int_column\n",
        "                                                       0           0\n",
        "                                                       1           1\n",
        "  ```\n",
        "  "
      ],
      "metadata": {
        "id": "XL0tLyOj1_En"
      }
    },
    {
      "cell_type": "code",
      "source": [],
      "metadata": {
        "id": "r_cVgXoUGMHu"
      },
      "execution_count": null,
      "outputs": []
    },
    {
      "cell_type": "markdown",
      "source": [
        "f#SQLite3\n",
        "https://docs.python.org/3/library/sqlite3.html\n",
        "\n",
        "First, we need to create a new database and open a database connection to allow sqlite3 to work with it. Call sqlite3.connect() to create a connection to the database tutorial.db in the current working directory, implicitly creating it if it does not exist:\n",
        "\n",
        "import sqlite3\n",
        "con = sqlite3.connect(\"tutorial.db\")\n",
        "The returned Connection object con represents the connection to the on-disk database.\n",
        "\n",
        "In order to execute SQL statements and fetch results from SQL queries, we will need to use a database cursor. Call con.cursor() to create the Cursor:\n",
        "\n",
        "cur = con.cursor()\n",
        "Now that we’ve got a database connection and a cursor, we can create a database table movie with columns for title, release year, and review score. For simplicity, we can just use column names in the table declaration – thanks to the flexible typing feature of SQLite, specifying the data types is optional. Execute the CREATE TABLE statement by calling cur.execute(...):\n",
        "\n",
        "cur.execute(\"CREATE TABLE movie(title, year, score)\")\n",
        "We can verify that the new table has been created by querying the sqlite_master table built-in to SQLite, which should now contain an entry for the movie table definition (see The Schema Table for details). Execute that query by calling cur.execute(...), assign the result to res, and call res.fetchone() to fetch the resulting row:\n",
        "\n",
        ">>>\n",
        "res = cur.execute(\"SELECT name FROM sqlite_master\")\n",
        "res.fetchone()\n",
        "```\n",
        "('movie',)\n",
        "```\n",
        "\n",
        "We can see that the table has been created, as the query returns a tuple containing the table’s name. If we query sqlite_master for a non-existent table spam, res.fetchone() will return None:\n",
        "\n",
        ">>>\n",
        "res = cur.execute(\"SELECT name FROM sqlite_master WHERE name='spam'\")\n",
        "res.fetchone() is None\n",
        "True"
      ],
      "metadata": {
        "id": "oT0tz4QG-PMe"
      }
    },
    {
      "cell_type": "markdown",
      "source": [
        "\n",
        "Now, insert three more rows by calling cur.executemany(...):\n",
        "\n",
        "data = [\n",
        "    (\"Monty Python Live at the Hollywood Bowl\", 1982, 7.9),\n",
        "    (\"Monty Python's The Meaning of Life\", 1983, 7.5),\n",
        "    (\"Monty Python's Life of Brian\", 1979, 8.0),\n",
        "]\n",
        "cur.executemany(\"INSERT INTO movie VALUES(?, ?, ?)\", data)\n",
        "con.commit()  # Remember to commit the transaction after executing INSERT.\n",
        "Notice that ? placeholders are used to bind data to the query. Always use placeholders instead of string formatting to bind Python values to SQL statements, to avoid SQL injection attacks (see How to use placeholders to bind values in SQL queries for more details).\n",
        "\n",
        "We can verify that the new rows were inserted by executing a SELECT query, this time iterating over the results of the query:"
      ],
      "metadata": {
        "id": "NS5WypklHNZC"
      }
    }
  ],
  "metadata": {
    "colab": {
      "provenance": [],
      "authorship_tag": "ABX9TyOsbZpcwULZVnbdBngL8oDv",
      "include_colab_link": true
    },
    "kernelspec": {
      "display_name": "Python 3",
      "name": "python3"
    },
    "language_info": {
      "name": "python"
    }
  },
  "nbformat": 4,
  "nbformat_minor": 0
}